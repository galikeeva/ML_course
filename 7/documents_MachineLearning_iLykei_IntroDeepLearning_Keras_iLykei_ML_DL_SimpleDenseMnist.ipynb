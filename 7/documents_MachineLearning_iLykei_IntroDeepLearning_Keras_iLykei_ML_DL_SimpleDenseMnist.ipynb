{
 "cells": [
  {
   "cell_type": "markdown",
   "metadata": {},
   "source": [
    "# iLykei Lecture Series\n",
    "\n",
    "# Machine Learning\n",
    "\n",
    "# Introduction to Deep Learning\n",
    "\n",
    "# Project: MNIST by Simple Deep NN\n",
    "\n",
    "\n",
    "## Yuri Balasanov, &copy; iLykei 2018\n",
    "\n",
    "##### Main source: [Keras Documentation](https://github.com/keras-team/keras/tree/master/examples)\n",
    "\n",
    "This notebook shows how to train a simple deep NN on the MNIST dataset."
   ]
  },
  {
   "cell_type": "code",
   "execution_count": 123,
   "metadata": {},
   "outputs": [],
   "source": [
    "from __future__ import print_function\n",
    "\n",
    "import keras\n",
    "from keras.datasets import mnist\n",
    "from keras.models import Sequential\n",
    "from keras.layers import Dense, Dropout\n",
    "from keras.optimizers import RMSprop, Adam\n",
    "import matplotlib as mpl\n",
    "from matplotlib import pyplot as plt\n",
    "import numpy as np\n",
    "import imageio"
   ]
  },
  {
   "cell_type": "markdown",
   "metadata": {},
   "source": [
    "# Deep network solution\n",
    "\n",
    "This example of deep network architecture for MNIST data is based on Keras documentation.\n",
    "\n",
    "Set main parameters."
   ]
  },
  {
   "cell_type": "code",
   "execution_count": 124,
   "metadata": {},
   "outputs": [],
   "source": [
    "batch_size = 128\n",
    "num_classes = 10\n",
    "epochs = 20"
   ]
  },
  {
   "cell_type": "markdown",
   "metadata": {},
   "source": [
    "Load the data, create train and test samples."
   ]
  },
  {
   "cell_type": "code",
   "execution_count": 125,
   "metadata": {},
   "outputs": [
    {
     "name": "stdout",
     "output_type": "stream",
     "text": [
      "Shape x_train:  (60000, 28, 28)\n"
     ]
    }
   ],
   "source": [
    "# the data, split between train and test sets\n",
    "(x_train, y_train), (x_test, y_test) = mnist.load_data()\n",
    "print('Shape x_train: ',x_train.shape)"
   ]
  },
  {
   "cell_type": "code",
   "execution_count": 126,
   "metadata": {},
   "outputs": [
    {
     "data": {
      "text/plain": [
       "array([5, 0, 4, 1, 9, 2], dtype=uint8)"
      ]
     },
     "execution_count": 126,
     "metadata": {},
     "output_type": "execute_result"
    }
   ],
   "source": [
    "y_train[:6]"
   ]
  },
  {
   "cell_type": "markdown",
   "metadata": {},
   "source": [
    "Look at the first image."
   ]
  },
  {
   "cell_type": "code",
   "execution_count": 127,
   "metadata": {},
   "outputs": [
    {
     "name": "stdout",
     "output_type": "stream",
     "text": [
      "Shape:  (28, 28)\n",
      "Raw:  [[  0   0   0   0   0   0   0   0   0   0   0   0   0   0   0   0   0   0\n",
      "    0   0   0   0   0   0   0   0   0   0]\n",
      " [  0   0   0   0   0   0   0   0   0   0   0   0   0   0   0   0   0   0\n",
      "    0   0   0   0   0   0   0   0   0   0]\n",
      " [  0   0   0   0   0   0   0   0   0   0   0   0   0   0   0   0   0   0\n",
      "    0   0   0   0   0   0   0   0   0   0]\n",
      " [  0   0   0   0   0   0   0   0   0   0   0   0   0   0   0   0   0   0\n",
      "    0   0   0   0   0   0   0   0   0   0]\n",
      " [  0   0   0   0   0   0   0   0   0   0   0   0   0   0   0   0   0   0\n",
      "    0   0   0   0   0   0   0   0   0   0]\n",
      " [  0   0   0   0   0   0   0   0   0   0   0   0   3  18  18  18 126 136\n",
      "  175  26 166 255 247 127   0   0   0   0]]\n",
      "First label:  5\n"
     ]
    },
    {
     "data": {
      "image/png": "[encoded data removed]",
      "text/plain": [
       "<Figure size 504x504 with 1 Axes>"
      ]
     },
     "metadata": {},
     "output_type": "display_data"
    }
   ],
   "source": [
    "first_image = x_train[0]\n",
    "print('Shape: ',first_image.shape)\n",
    "print('Raw: ',first_image[:6,])\n",
    "first_image = np.array(first_image, dtype='float')\n",
    "print('First label: ',y_train[0])\n",
    "\n",
    "plt.imshow(first_image, cmap='gray')\n",
    "plt.show()"
   ]
  },
  {
   "cell_type": "markdown",
   "metadata": {},
   "source": [
    "Flatten and normalize the train and test samples images"
   ]
  },
  {
   "cell_type": "code",
   "execution_count": 128,
   "metadata": {},
   "outputs": [
    {
     "name": "stdout",
     "output_type": "stream",
     "text": [
      "60000 train samples\n",
      "10000 test samples\n"
     ]
    }
   ],
   "source": [
    "x_train = x_train.reshape(60000, 784) # each image as vector 784=28*28\n",
    "x_test = x_test.reshape(10000, 784)\n",
    "x_train = x_train.astype('float32')\n",
    "x_test = x_test.astype('float32')\n",
    "x_train /= 255\n",
    "x_test /= 255\n",
    "print(x_train.shape[0], 'train samples')\n",
    "print(x_test.shape[0], 'test samples')"
   ]
  },
  {
   "cell_type": "markdown",
   "metadata": {},
   "source": [
    "Convert class vectors to binary class matrices."
   ]
  },
  {
   "cell_type": "code",
   "execution_count": 129,
   "metadata": {},
   "outputs": [
    {
     "name": "stdout",
     "output_type": "stream",
     "text": [
      "Row size of y_train:  (10,)\n",
      "y_train: \n",
      " [[ 0.  0.  0.  0.  0.  1.  0.  0.  0.  0.]\n",
      " [ 1.  0.  0.  0.  0.  0.  0.  0.  0.  0.]\n",
      " [ 0.  0.  0.  0.  1.  0.  0.  0.  0.  0.]\n",
      " [ 0.  1.  0.  0.  0.  0.  0.  0.  0.  0.]\n",
      " [ 0.  0.  0.  0.  0.  0.  0.  0.  0.  1.]\n",
      " [ 0.  0.  1.  0.  0.  0.  0.  0.  0.  0.]]\n",
      "y_test: \n",
      " [[ 0.  0.  0.  0.  0.  0.  0.  1.  0.  0.]\n",
      " [ 0.  0.  1.  0.  0.  0.  0.  0.  0.  0.]\n",
      " [ 0.  1.  0.  0.  0.  0.  0.  0.  0.  0.]\n",
      " [ 1.  0.  0.  0.  0.  0.  0.  0.  0.  0.]\n",
      " [ 0.  0.  0.  0.  1.  0.  0.  0.  0.  0.]\n",
      " [ 0.  1.  0.  0.  0.  0.  0.  0.  0.  0.]]\n"
     ]
    }
   ],
   "source": [
    "y_train = keras.utils.to_categorical(y_train, num_classes)\n",
    "y_test = keras.utils.to_categorical(y_test, num_classes)\n",
    "print('Row size of y_train: ',y_train[0].shape)\n",
    "print('y_train: \\n',y_train[:6])\n",
    "print('y_test: \\n',y_test[:6])"
   ]
  },
  {
   "cell_type": "markdown",
   "metadata": {},
   "source": [
    "<font color=blue>\n",
    "\n",
    "**Assignment 1**\n",
    "\n",
    "Create model with two hidden layers of 196 units with relu activation function, followed by 0.2 dropouts. Output has 10 units (`num_classes`) with softmax activation.\n",
    "Print model summary:\n",
    "\n",
    "_________________________________________________________________ <br>\n",
    "Layer (type)                 Output Shape              Param #    <br>\n",
    "================================================================= <br>\n",
    "dense_1 (Dense)              (None, 196)               153860     <br>\n",
    "_________________________________________________________________ <br>\n",
    "dropout_1 (Dropout)          (None, 196)               0          <br>\n",
    "_________________________________________________________________ <br>\n",
    "dense_2 (Dense)              (None, 196)               38612      <br>\n",
    "_________________________________________________________________ <br>\n",
    "dropout_2 (Dropout)          (None, 196)               0          <br>\n",
    "_________________________________________________________________ <br>\n",
    "dense_3 (Dense)              (None, 10)                1970       <br>\n",
    "================================================================= <br>\n",
    "Total params: 194,442 <br>\n",
    "Trainable params: 194,442 <br>\n",
    "Non-trainable params: 0 <br>"
   ]
  },
  {
   "cell_type": "code",
   "execution_count": 130,
   "metadata": {},
   "outputs": [],
   "source": [
    "# Skipped code: model and summary\n"
   ]
  },
  {
   "cell_type": "markdown",
   "metadata": {},
   "source": [
    "Plot the model architecture.\n",
    "\n",
    "![l3](https://ilykei.com/api/fileProxy/documents%2FAdvanced%20Data%20Mining%20and%20Predictive%20Analytics%2031009%2FLecture%20Deep%20Learning%2Fsimple_dense_mnist.png)"
   ]
  },
  {
   "cell_type": "code",
   "execution_count": 131,
   "metadata": {},
   "outputs": [],
   "source": [
    "# Skipped code\n",
    "# Plot architecture\n"
   ]
  },
  {
   "cell_type": "markdown",
   "metadata": {},
   "source": [
    "Compile the model using `categorical_crossentropy` as loss and `accuracy` as metrics. Try optimizers `RMSprop()` or `Adam`.\n",
    "Read [one of available sources](http://ruder.io/optimizing-gradient-descent/index.html#gradientdescentoptimizationalgorithms) for more information about optimizers and their comparisons.\n",
    "\n",
    "\n",
    "Visualize initial weights of the first layer: it contains 196 units, each unit has $784=28 \\times 28$ inputs. So, each of 196 vectors of weights has 784 components and can be interpreted as image of size $28 \\times 28$. \n",
    "\n",
    "Reshaping these vectors into 196 arrays of shape (28,28) allows vizualizing the weights as (28,28) images in which intensity of a pixel corresponds to the size of weight.\n",
    "\n",
    "Show 25 weights vectors."
   ]
  },
  {
   "cell_type": "raw",
   "metadata": {},
   "source": [
    "model.compile(loss='categorical_crossentropy',\n",
    "              optimizer=Adam(),\n",
    "              metrics=['accuracy'])\n",
    "\n",
    "w_init = model.layers[0].get_weights()[0]\n",
    "\n",
    "R, C = 5, 5  # rows, columns\n",
    "plt.figure(figsize=(R, C))\n",
    "for i in range(R*C):\n",
    "    plt.subplot(R, C, i + 1)\n",
    "    plt.imshow(w_init[:,i].reshape((28, 28)), cmap='Greys', interpolation='nearest')\n",
    "    plt.axis('off')"
   ]
  },
  {
   "cell_type": "markdown",
   "metadata": {},
   "source": [
    "Initial weights are random."
   ]
  },
  {
   "cell_type": "markdown",
   "metadata": {},
   "source": [
    "<font color=blue>\n",
    "\n",
    "Fit the model: \n",
    "\n",
    "* Inputs `x_train` and labels `y_train`\n",
    "* Call fitted model object `history`\n",
    "* Use parameters' values defined earlier:\n",
    "\n",
    "`batch_size = 128` <br>\n",
    "`epochs = 20` <br>\n",
    "\n",
    "* Define `validation_data` = (x_test,y_test)"
   ]
  },
  {
   "cell_type": "code",
   "execution_count": 132,
   "metadata": {},
   "outputs": [],
   "source": [
    "# Skipped code\n",
    "# "
   ]
  },
  {
   "cell_type": "markdown",
   "metadata": {},
   "source": [
    "Show keys of variables saved in `history`. Plot accuracy and validation accuracy."
   ]
  },
  {
   "cell_type": "raw",
   "metadata": {},
   "source": [
    "print(history.history.keys())\n",
    "plt.plot(history.history['acc'])\n",
    "plt.plot(history.history['val_acc'])\n",
    "plt.ylim((0.8,1))\n",
    "plt.show()"
   ]
  },
  {
   "cell_type": "markdown",
   "metadata": {},
   "source": [
    "Validate the model."
   ]
  },
  {
   "cell_type": "raw",
   "metadata": {},
   "source": [
    "score = model.evaluate(x_test, y_test, verbose=0)\n",
    "print('Test loss:', score[0])\n",
    "print('Test accuracy:', score[1])"
   ]
  },
  {
   "cell_type": "markdown",
   "metadata": {},
   "source": [
    "Check estimated weights and their shapes."
   ]
  },
  {
   "cell_type": "raw",
   "metadata": {},
   "source": [
    "print('Weights matrix: ',model.layers[0].get_weights()[0].shape)\n",
    "print('Bias vector: ',model.layers[0].get_weights()[1].shape)"
   ]
  },
  {
   "cell_type": "markdown",
   "metadata": {},
   "source": [
    "Visualize weights of the first layer and compare them with the initial weights."
   ]
  },
  {
   "cell_type": "markdown",
   "metadata": {},
   "source": [
    "w = model.layers[0].get_weights()[0]\n",
    "\n",
    "R, C = 5, 5  # rows, columns\n",
    "plt.figure(figsize=(R, C))\n",
    "for i in range(R*C):\n",
    "    plt.subplot(R, C, i + 1)\n",
    "    plt.imshow(w[:,i].reshape((28, 28)), cmap='Greys', interpolation='nearest')\n",
    "    plt.axis('off')"
   ]
  },
  {
   "cell_type": "markdown",
   "metadata": {},
   "source": [
    "# Shallow network solution"
   ]
  },
  {
   "cell_type": "markdown",
   "metadata": {},
   "source": [
    "<font color=blue>\n",
    "\n",
    "**Assignment 2**\n",
    "\n",
    "Modify the model to `model1` with only 1 hidden layer with 100 units and `relu` activation. Print summary of the model.\n",
    "\n",
    "![l1](https://ilykei.com/api/fileProxy/documents%2FAdvanced%20Data%20Mining%20and%20Predictive%20Analytics%2031009%2FLecture%20Deep%20Learning%2Fsimple_dense_mnist1.png)"
   ]
  },
  {
   "cell_type": "code",
   "execution_count": 133,
   "metadata": {},
   "outputs": [],
   "source": [
    "# Skipped code\n"
   ]
  },
  {
   "cell_type": "markdown",
   "metadata": {
    "scrolled": false
   },
   "source": [
    "mpl.rcParams['figure.figsize'] = (7,7)  # plot sizes\n",
    "\n",
    "plot_model(model1, to_file='simple_dense_mnist1.png', show_shapes=True)\n",
    "plt.imshow(imageio.imread('simple_dense_mnist1.png'))"
   ]
  },
  {
   "cell_type": "markdown",
   "metadata": {},
   "source": [
    "<font color=blue>\n",
    "\n",
    "* Compile the model\n",
    "* Fit it\n",
    "* Evaluate it."
   ]
  },
  {
   "cell_type": "code",
   "execution_count": 134,
   "metadata": {},
   "outputs": [],
   "source": [
    "# Skipped code\n",
    "# Compile the model\n"
   ]
  },
  {
   "cell_type": "code",
   "execution_count": 135,
   "metadata": {},
   "outputs": [],
   "source": [
    "# Skipped code\n",
    "# Fit the model\n"
   ]
  },
  {
   "cell_type": "markdown",
   "metadata": {},
   "source": [
    "print(history1.history.keys())\n",
    "plt.plot(history1.history['acc'])\n",
    "plt.plot(history1.history['val_acc'])\n",
    "plt.ylim((0.8,1))\n",
    "plt.show()"
   ]
  },
  {
   "cell_type": "raw",
   "metadata": {},
   "source": [
    "score = model1.evaluate(x_test, y_test, verbose=0)\n",
    "print('Test loss:', score[0])\n",
    "print('Test accuracy:', score[1])"
   ]
  },
  {
   "cell_type": "markdown",
   "metadata": {},
   "source": [
    "Visualize the trained weigths again."
   ]
  },
  {
   "cell_type": "raw",
   "metadata": {},
   "source": [
    "w_shallow = model1.layers[0].get_weights()[0]\n",
    "\n",
    "R, C = 5, 5  # rows, columns\n",
    "plt.figure(figsize=(R, C))\n",
    "for i in range(R*C):\n",
    "    plt.subplot(R, C, i + 1)\n",
    "    plt.imshow(w_shallow[:,i].reshape((28, 28)), cmap='Greys', interpolation='nearest')\n",
    "    plt.axis('off')"
   ]
  },
  {
   "cell_type": "markdown",
   "metadata": {},
   "source": [
    "Check how the first 5 numbers from the test sample are predicted. "
   ]
  },
  {
   "cell_type": "markdown",
   "metadata": {},
   "source": [
    "print('Actual: \\n',y_test[:5],'\\n ')\n",
    "print('Predicted: \\n',np.around(np.array(model1.predict(x_test)[:5]), decimals=2))"
   ]
  },
  {
   "cell_type": "markdown",
   "metadata": {},
   "source": [
    "Try to reduce number of units in the single hidden layer to make it less overfitting."
   ]
  }
 ],
 "metadata": {
  "kernelspec": {
   "display_name": "Python 3",
   "language": "python",
   "name": "python3"
  },
  "language_info": {
   "codemirror_mode": {
    "name": "ipython",
    "version": 3
   },
   "file_extension": ".py",
   "mimetype": "text/x-python",
   "name": "python",
   "nbconvert_exporter": "python",
   "pygments_lexer": "ipython3",
   "version": "3.7.6"
  }
 },
 "nbformat": 4,
 "nbformat_minor": 2
}
