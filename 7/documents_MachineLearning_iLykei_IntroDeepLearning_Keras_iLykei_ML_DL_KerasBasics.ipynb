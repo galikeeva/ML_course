{
 "cells": [
  {
   "cell_type": "markdown",
   "metadata": {
    "collapsed": true,
    "nbpresent": {
     "id": "f765eb10-54e6-4a14-912b-e5117e8f433d"
    }
   },
   "source": [
    "# iLykei Lecture Series\n",
    "\n",
    "# Machine Learning\n",
    "\n",
    "# Introduction to Deep Learning\n",
    "\n",
    "# Introduction to Keras\n",
    "\n",
    "## Yuri Balasanov, Leonid Nazarov, &copy; iLykei 2017-2018\n",
    "\n",
    "\n",
    "Keras is an open source neural network library written in Python. It is capable of running on top of one of several libraries (backends): MXNet, Deeplearning4j, Tensorflow, CNTK or Theano. Designed to enable fast experimentation with deep neural networks, it focuses on being minimal, modular and extensible. It was developed as part of the research effort of project ONEIROS (Open-ended Neuro-Electronic Intelligent Robot Operating System), and its primary author and maintainer is François Chollet, a Google engineer.\n",
    "\n",
    "Keras is a very simple and user friendly modular API that allows managing and organizing layers of neural network in a much easier way than TensorFlow."
   ]
  },
  {
   "cell_type": "markdown",
   "metadata": {},
   "source": [
    "# Sequential model\n",
    "\n",
    "The core data structure of Keras is **model**, a way to organize layers of the neural network. <br>\n",
    "\n",
    "The simplest type of model is the Sequential model, a linear stack of layers.<br>\n",
    "\n",
    "Design a simple neural network with one hidden layer consisting of 3 neurons.  \n",
    "\n",
    "First, define the type of the model."
   ]
  },
  {
   "cell_type": "code",
   "execution_count": 26,
   "metadata": {
    "scrolled": true
   },
   "outputs": [],
   "source": [
    "%matplotlib inline\n",
    "from keras.models import Sequential\n",
    "from keras.layers import Dense, Dropout, Activation, Flatten\n",
    "\n",
    "model =  Sequential() # create model"
   ]
  },
  {
   "cell_type": "markdown",
   "metadata": {
    "collapsed": true
   },
   "source": [
    "Specify the first (hidden) layer."
   ]
  },
  {
   "cell_type": "code",
   "execution_count": 27,
   "metadata": {},
   "outputs": [],
   "source": [
    "model.add(Dense(units=3, input_dim=30)) # add hidden layer"
   ]
  },
  {
   "cell_type": "markdown",
   "metadata": {},
   "source": [
    "Alternative way of calling the same function creating hidden layer is: <br>\n",
    "\n",
    "`model.add(Dense(3, input_dim=30, activation='relu')).` <br>\n",
    "\n",
    "Difference between the two is activation type that can be added separately or inside `model.add` method.\n",
    "\n",
    "Parameter `input_dim` sets number of inputs (predictors). <br>\n",
    "Parameter `activation` is set to `relu` which is a common [activation function](https://en.wikipedia.org/wiki/Rectifier_(neural_networks)) for neural networks.\n",
    "\n",
    "Input layer is not explicitly created. Instead, only number of neurons (features) that feed into the first hidden layer, needs to be specified (30 for the Wisconsin Breast Cancer Dataset considered in this notebook). \n",
    "\n",
    "There is also no need to worry about the input dimensions for subsequent layers: neurons in the previous layer form input for the next layer. The output dimension of the first hidden layer is equal to 3. "
   ]
  },
  {
   "cell_type": "code",
   "execution_count": null,
   "metadata": {},
   "outputs": [],
   "source": []
  },
  {
   "cell_type": "markdown",
   "metadata": {},
   "source": [
    "Selection of activation function for the hidden layer can be done from the list of available activations, providing formulas for the most popular ones: \n",
    "\n",
    "- softmax(x) :   $f_{i}(x)=\\frac{e^{x_{i}}}{\\sum_{i=1}^{n}e^{x_{i}}},i=1,...,n$\n",
    "- elu(x)\n",
    "- selu(x)\n",
    "- softplus(x) = $ln(1 + e^{x})$\n",
    "- softsign(x) = $\\frac {x}{1+|x|}$\n",
    "- relu(x) = $max(0,x)$; (those familiar with options trading will recognize call option payof function in `relu`)\n",
    "- tanh(x) \n",
    "- sigmoid(x) = $\\frac {1}{1+e^{-x}}$\n",
    "- hard_sigmoid(x)\n",
    "- linear(x) = $x$\n",
    "- LeakyReLU(x,alpha) = $max(\\alpha *x,x)$\n",
    "\n",
    "Activation function 'relu' has earned significant popularity recently because it usually provides faster convergence relative to 'tanh' or 'sigmoid'.\n",
    "\n",
    "Since activation was not specified in the previous cell add it now."
   ]
  },
  {
   "cell_type": "code",
   "execution_count": 28,
   "metadata": {},
   "outputs": [],
   "source": [
    "model.add(Activation('relu')) "
   ]
  },
  {
   "cell_type": "markdown",
   "metadata": {},
   "source": [
    "Add output layer with 1 neuron and 'sigmoid' activation function producing predictive probability for Class 1."
   ]
  },
  {
   "cell_type": "code",
   "execution_count": 29,
   "metadata": {},
   "outputs": [],
   "source": [
    "# output layer for binary classification\n",
    "model.add(Dense(units=1))\n",
    "model.add(Activation('sigmoid'))"
   ]
  },
  {
   "cell_type": "markdown",
   "metadata": {},
   "source": [
    "The following plot displays the nework architecture for Wisconsin breast cancer example and explains the nature of **Dense** (fully connected) layer: each neuron of it is connected with all units of the next layer.\n",
    " \n",
    "![Model plot](https://ilykei.com/api/fileProxy/documents%2FAdvanced%20Machine%20Learning%2FLecture%207%20AdvML%2FR_nn_plot.png)\n",
    "\n",
    "The picture was created with function *plot()* from R **neuralnet** package. <br>\n",
    "\n",
    "Keras has tools for model visualization of its own. \n",
    "\n",
    "Module `keras.utils.vis_utils` provides utility functions to plot a Keras model (using **graphviz**). \n",
    "Unlike the R function used above this utility does not show neurons. It describes network in terms of layers.   \n",
    "\n",
    "The code below plots another graph of the same network model: "
   ]
  },
  {
   "cell_type": "code",
   "execution_count": 36,
   "metadata": {},
   "outputs": [
    {
     "ename": "ImportError",
     "evalue": "Failed to import `pydot`. Please install `pydot`. For example with `pip install pydot`.",
     "output_type": "error",
     "traceback": [
      "\u001b[1;31m---------------------------------------------------------------------------\u001b[0m",
      "\u001b[1;31mImportError\u001b[0m                               Traceback (most recent call last)",
      "\u001b[1;32m<ipython-input-36-2cabf02ce23a>\u001b[0m in \u001b[0;36m<module>\u001b[1;34m\u001b[0m\n\u001b[0;32m      2\u001b[0m \u001b[1;32mfrom\u001b[0m \u001b[0mkeras\u001b[0m\u001b[1;33m.\u001b[0m\u001b[0mutils\u001b[0m\u001b[1;33m.\u001b[0m\u001b[0mvis_utils\u001b[0m \u001b[1;32mimport\u001b[0m \u001b[0mmodel_to_dot\u001b[0m\u001b[1;33m\u001b[0m\u001b[1;33m\u001b[0m\u001b[0m\n\u001b[0;32m      3\u001b[0m \u001b[1;33m\u001b[0m\u001b[0m\n\u001b[1;32m----> 4\u001b[1;33m \u001b[0mSVG\u001b[0m\u001b[1;33m(\u001b[0m\u001b[0mmodel_to_dot\u001b[0m\u001b[1;33m(\u001b[0m\u001b[0mmodel\u001b[0m\u001b[1;33m)\u001b[0m\u001b[1;33m.\u001b[0m\u001b[0mcreate\u001b[0m\u001b[1;33m(\u001b[0m\u001b[0mprog\u001b[0m\u001b[1;33m=\u001b[0m\u001b[1;34m'dot'\u001b[0m\u001b[1;33m,\u001b[0m \u001b[0mformat\u001b[0m\u001b[1;33m=\u001b[0m\u001b[1;34m'svg'\u001b[0m\u001b[1;33m)\u001b[0m\u001b[1;33m)\u001b[0m\u001b[1;33m\u001b[0m\u001b[1;33m\u001b[0m\u001b[0m\n\u001b[0m",
      "\u001b[1;32m~\\anaconda3\\lib\\site-packages\\keras\\utils\\vis_utils.py\u001b[0m in \u001b[0;36mmodel_to_dot\u001b[1;34m(model, show_shapes, show_layer_names, rankdir, expand_nested, dpi, subgraph)\u001b[0m\n\u001b[0;32m     77\u001b[0m     \u001b[1;32mfrom\u001b[0m \u001b[1;33m.\u001b[0m\u001b[1;33m.\u001b[0m\u001b[0mmodels\u001b[0m \u001b[1;32mimport\u001b[0m \u001b[0mSequential\u001b[0m\u001b[1;33m\u001b[0m\u001b[1;33m\u001b[0m\u001b[0m\n\u001b[0;32m     78\u001b[0m \u001b[1;33m\u001b[0m\u001b[0m\n\u001b[1;32m---> 79\u001b[1;33m     \u001b[0m_check_pydot\u001b[0m\u001b[1;33m(\u001b[0m\u001b[1;33m)\u001b[0m\u001b[1;33m\u001b[0m\u001b[1;33m\u001b[0m\u001b[0m\n\u001b[0m\u001b[0;32m     80\u001b[0m     \u001b[1;32mif\u001b[0m \u001b[0msubgraph\u001b[0m\u001b[1;33m:\u001b[0m\u001b[1;33m\u001b[0m\u001b[1;33m\u001b[0m\u001b[0m\n\u001b[0;32m     81\u001b[0m         \u001b[0mdot\u001b[0m \u001b[1;33m=\u001b[0m \u001b[0mpydot\u001b[0m\u001b[1;33m.\u001b[0m\u001b[0mCluster\u001b[0m\u001b[1;33m(\u001b[0m\u001b[0mstyle\u001b[0m\u001b[1;33m=\u001b[0m\u001b[1;34m'dashed'\u001b[0m\u001b[1;33m,\u001b[0m \u001b[0mgraph_name\u001b[0m\u001b[1;33m=\u001b[0m\u001b[0mmodel\u001b[0m\u001b[1;33m.\u001b[0m\u001b[0mname\u001b[0m\u001b[1;33m)\u001b[0m\u001b[1;33m\u001b[0m\u001b[1;33m\u001b[0m\u001b[0m\n",
      "\u001b[1;32m~\\anaconda3\\lib\\site-packages\\keras\\utils\\vis_utils.py\u001b[0m in \u001b[0;36m_check_pydot\u001b[1;34m()\u001b[0m\n\u001b[0;32m     20\u001b[0m     \u001b[1;32mif\u001b[0m \u001b[0mpydot\u001b[0m \u001b[1;32mis\u001b[0m \u001b[1;32mNone\u001b[0m\u001b[1;33m:\u001b[0m\u001b[1;33m\u001b[0m\u001b[1;33m\u001b[0m\u001b[0m\n\u001b[0;32m     21\u001b[0m         raise ImportError(\n\u001b[1;32m---> 22\u001b[1;33m             \u001b[1;34m'Failed to import `pydot`. '\u001b[0m\u001b[1;33m\u001b[0m\u001b[1;33m\u001b[0m\u001b[0m\n\u001b[0m\u001b[0;32m     23\u001b[0m             \u001b[1;34m'Please install `pydot`. '\u001b[0m\u001b[1;33m\u001b[0m\u001b[1;33m\u001b[0m\u001b[0m\n\u001b[0;32m     24\u001b[0m             'For example with `pip install pydot`.')\n",
      "\u001b[1;31mImportError\u001b[0m: Failed to import `pydot`. Please install `pydot`. For example with `pip install pydot`."
     ]
    }
   ],
   "source": [
    "from IPython.display import SVG\n",
    "from keras.utils.vis_utils import model_to_dot\n",
    "\n",
    "SVG(model_to_dot(model).create(prog='dot', format='svg'))"
   ]
  },
  {
   "cell_type": "markdown",
   "metadata": {},
   "source": [
    " Another way is to save the diagram to a file and then plot it with the function `plot_model` which takes two optional arguments:\n",
    "- `show_shapes` (defaults to False) controls whether output shapes are shown in the graph.\n",
    "- `show_layer_names` (defaults to True) controls whether layer names are shown in the graph."
   ]
  },
  {
   "cell_type": "code",
   "execution_count": 33,
   "metadata": {},
   "outputs": [
    {
     "ename": "ImportError",
     "evalue": "Failed to import `pydot`. Please install `pydot`. For example with `pip install pydot`.",
     "output_type": "error",
     "traceback": [
      "\u001b[1;31m---------------------------------------------------------------------------\u001b[0m",
      "\u001b[1;31mImportError\u001b[0m                               Traceback (most recent call last)",
      "\u001b[1;32m<ipython-input-33-5b3412d93d13>\u001b[0m in \u001b[0;36m<module>\u001b[1;34m\u001b[0m\n\u001b[0;32m      1\u001b[0m \u001b[1;32mfrom\u001b[0m \u001b[0mkeras\u001b[0m\u001b[1;33m.\u001b[0m\u001b[0mutils\u001b[0m \u001b[1;32mimport\u001b[0m \u001b[0mplot_model\u001b[0m\u001b[1;33m\u001b[0m\u001b[1;33m\u001b[0m\u001b[0m\n\u001b[1;32m----> 2\u001b[1;33m \u001b[0mplot_model\u001b[0m\u001b[1;33m(\u001b[0m\u001b[0mmodel\u001b[0m\u001b[1;33m,\u001b[0m \u001b[0mto_file\u001b[0m\u001b[1;33m=\u001b[0m\u001b[1;34m'model1.png'\u001b[0m\u001b[1;33m,\u001b[0m\u001b[0mshow_shapes\u001b[0m\u001b[1;33m=\u001b[0m\u001b[1;32mTrue\u001b[0m\u001b[1;33m,\u001b[0m\u001b[0mshow_layer_names\u001b[0m\u001b[1;33m=\u001b[0m\u001b[1;32mTrue\u001b[0m\u001b[1;33m)\u001b[0m\u001b[1;33m\u001b[0m\u001b[1;33m\u001b[0m\u001b[0m\n\u001b[0m",
      "\u001b[1;32m~\\anaconda3\\lib\\site-packages\\keras\\utils\\vis_utils.py\u001b[0m in \u001b[0;36mplot_model\u001b[1;34m(model, to_file, show_shapes, show_layer_names, rankdir, expand_nested, dpi)\u001b[0m\n\u001b[0;32m    238\u001b[0m     \"\"\"\n\u001b[0;32m    239\u001b[0m     dot = model_to_dot(model, show_shapes, show_layer_names, rankdir,\n\u001b[1;32m--> 240\u001b[1;33m                        expand_nested, dpi)\n\u001b[0m\u001b[0;32m    241\u001b[0m     \u001b[0m_\u001b[0m\u001b[1;33m,\u001b[0m \u001b[0mextension\u001b[0m \u001b[1;33m=\u001b[0m \u001b[0mos\u001b[0m\u001b[1;33m.\u001b[0m\u001b[0mpath\u001b[0m\u001b[1;33m.\u001b[0m\u001b[0msplitext\u001b[0m\u001b[1;33m(\u001b[0m\u001b[0mto_file\u001b[0m\u001b[1;33m)\u001b[0m\u001b[1;33m\u001b[0m\u001b[1;33m\u001b[0m\u001b[0m\n\u001b[0;32m    242\u001b[0m     \u001b[1;32mif\u001b[0m \u001b[1;32mnot\u001b[0m \u001b[0mextension\u001b[0m\u001b[1;33m:\u001b[0m\u001b[1;33m\u001b[0m\u001b[1;33m\u001b[0m\u001b[0m\n",
      "\u001b[1;32m~\\anaconda3\\lib\\site-packages\\keras\\utils\\vis_utils.py\u001b[0m in \u001b[0;36mmodel_to_dot\u001b[1;34m(model, show_shapes, show_layer_names, rankdir, expand_nested, dpi, subgraph)\u001b[0m\n\u001b[0;32m     77\u001b[0m     \u001b[1;32mfrom\u001b[0m \u001b[1;33m.\u001b[0m\u001b[1;33m.\u001b[0m\u001b[0mmodels\u001b[0m \u001b[1;32mimport\u001b[0m \u001b[0mSequential\u001b[0m\u001b[1;33m\u001b[0m\u001b[1;33m\u001b[0m\u001b[0m\n\u001b[0;32m     78\u001b[0m \u001b[1;33m\u001b[0m\u001b[0m\n\u001b[1;32m---> 79\u001b[1;33m     \u001b[0m_check_pydot\u001b[0m\u001b[1;33m(\u001b[0m\u001b[1;33m)\u001b[0m\u001b[1;33m\u001b[0m\u001b[1;33m\u001b[0m\u001b[0m\n\u001b[0m\u001b[0;32m     80\u001b[0m     \u001b[1;32mif\u001b[0m \u001b[0msubgraph\u001b[0m\u001b[1;33m:\u001b[0m\u001b[1;33m\u001b[0m\u001b[1;33m\u001b[0m\u001b[0m\n\u001b[0;32m     81\u001b[0m         \u001b[0mdot\u001b[0m \u001b[1;33m=\u001b[0m \u001b[0mpydot\u001b[0m\u001b[1;33m.\u001b[0m\u001b[0mCluster\u001b[0m\u001b[1;33m(\u001b[0m\u001b[0mstyle\u001b[0m\u001b[1;33m=\u001b[0m\u001b[1;34m'dashed'\u001b[0m\u001b[1;33m,\u001b[0m \u001b[0mgraph_name\u001b[0m\u001b[1;33m=\u001b[0m\u001b[0mmodel\u001b[0m\u001b[1;33m.\u001b[0m\u001b[0mname\u001b[0m\u001b[1;33m)\u001b[0m\u001b[1;33m\u001b[0m\u001b[1;33m\u001b[0m\u001b[0m\n",
      "\u001b[1;32m~\\anaconda3\\lib\\site-packages\\keras\\utils\\vis_utils.py\u001b[0m in \u001b[0;36m_check_pydot\u001b[1;34m()\u001b[0m\n\u001b[0;32m     20\u001b[0m     \u001b[1;32mif\u001b[0m \u001b[0mpydot\u001b[0m \u001b[1;32mis\u001b[0m \u001b[1;32mNone\u001b[0m\u001b[1;33m:\u001b[0m\u001b[1;33m\u001b[0m\u001b[1;33m\u001b[0m\u001b[0m\n\u001b[0;32m     21\u001b[0m         raise ImportError(\n\u001b[1;32m---> 22\u001b[1;33m             \u001b[1;34m'Failed to import `pydot`. '\u001b[0m\u001b[1;33m\u001b[0m\u001b[1;33m\u001b[0m\u001b[0m\n\u001b[0m\u001b[0;32m     23\u001b[0m             \u001b[1;34m'Please install `pydot`. '\u001b[0m\u001b[1;33m\u001b[0m\u001b[1;33m\u001b[0m\u001b[0m\n\u001b[0;32m     24\u001b[0m             'For example with `pip install pydot`.')\n",
      "\u001b[1;31mImportError\u001b[0m: Failed to import `pydot`. Please install `pydot`. For example with `pip install pydot`."
     ]
    }
   ],
   "source": [
    "from keras.utils import plot_model\n",
    "plot_model(model, to_file='model1.png',show_shapes=True,show_layer_names=True)"
   ]
  },
  {
   "cell_type": "markdown",
   "metadata": {},
   "source": [
    "Here is the plot of the the same network model with additional information loaded from the file *model1.png* using a line of markdown code:\n",
    "\n",
    "\"! [model] (./Path to model)\"\n",
    "\n",
    "The resulting plot is:\n",
    "\n",
    "![Model plot](https://ilykei.com/api/fileProxy/documents%2FAdvanced%20Machine%20Learning%2FLecture%207%20AdvML%2Fmodel1.png)\n",
    "\n",
    "Summary of the model can also be shown including layers types, shapes and the number of parameters:"
   ]
  },
  {
   "cell_type": "code",
   "execution_count": 37,
   "metadata": {
    "scrolled": true
   },
   "outputs": [
    {
     "name": "stdout",
     "output_type": "stream",
     "text": [
      "Model: \"sequential_2\"\n",
      "_________________________________________________________________\n",
      "Layer (type)                 Output Shape              Param #   \n",
      "=================================================================\n",
      "dense_3 (Dense)              (None, 3)                 93        \n",
      "_________________________________________________________________\n",
      "activation_3 (Activation)    (None, 3)                 0         \n",
      "_________________________________________________________________\n",
      "dense_4 (Dense)              (None, 1)                 4         \n",
      "_________________________________________________________________\n",
      "activation_4 (Activation)    (None, 1)                 0         \n",
      "=================================================================\n",
      "Total params: 97\n",
      "Trainable params: 97\n",
      "Non-trainable params: 0\n",
      "_________________________________________________________________\n",
      "None\n"
     ]
    }
   ],
   "source": [
    "print(model.summary())"
   ]
  },
  {
   "cell_type": "markdown",
   "metadata": {},
   "source": [
    "Use more compact syntax for describing the same Sequential network: "
   ]
  },
  {
   "cell_type": "code",
   "execution_count": 38,
   "metadata": {},
   "outputs": [],
   "source": [
    "model =  Sequential()\n",
    "model.add(Dense(3, input_dim=30,activation='relu'))\n",
    "model.add(Dense(1,activation='sigmoid'))"
   ]
  },
  {
   "cell_type": "markdown",
   "metadata": {},
   "source": [
    "or even define the model in one line."
   ]
  },
  {
   "cell_type": "code",
   "execution_count": 39,
   "metadata": {},
   "outputs": [],
   "source": [
    "model = Sequential([Dense(3, input_dim=30),Activation('relu'),\n",
    "    Dense(1),Activation('sigmoid')])"
   ]
  },
  {
   "cell_type": "markdown",
   "metadata": {},
   "source": [
    "# More complex architectures \n",
    "\n",
    "## Functional API\n",
    "\n",
    "Keras' functional API provides tools for defining more complex models, such as multi-output models, directed acyclic graphs, or models with shared layers. \n",
    "\n",
    "Models are defined by creating instances of layers and connecting them directly to each other pair by pair, then defining a model that specifies the layers to act as the input and output to the model.\n",
    "\n",
    "Define the simple model as above using functional API. \n",
    "\n",
    "Start with the input layer. Recall that input layer was not explicitly created in sequential model. Here it must be created and defined as a standalone Input layer that specifies the shape of input data.\n",
    "\n",
    "The input layer takes shape (tensor shape) argument that is a tuple that indicates the dimensionality of the input data.\n",
    "\n",
    "The shape must explicitly leave room for the mini-batch size used when splitting the data during training process. \n",
    "\n",
    "Therefore, the shape tuple is always defined with a hanging last dimension:"
   ]
  },
  {
   "cell_type": "code",
   "execution_count": 40,
   "metadata": {},
   "outputs": [
    {
     "data": {
      "text/plain": [
       "<tf.Tensor 'input_1:0' shape=(None, 30) dtype=float32>"
      ]
     },
     "execution_count": 40,
     "metadata": {},
     "output_type": "execute_result"
    }
   ],
   "source": [
    "from keras.layers import Input\n",
    "\n",
    "# This returns a tensor\n",
    "inputs = Input(shape=(30,))\n",
    "inputs"
   ]
  },
  {
   "cell_type": "markdown",
   "metadata": {},
   "source": [
    "A layer instance is callable (on a tensor), and it returns a tensor. The layers in the model are connected pairwise. <br>\n",
    "This is done by specifying where the input comes from when defining each new layer. \n",
    "\n",
    "The following line of code states that the input of Dense layer `hidden_1` comes from `inputs`. <br> "
   ]
  },
  {
   "cell_type": "code",
   "execution_count": 42,
   "metadata": {},
   "outputs": [],
   "source": [
    "hidden = Dense(3, activation='relu',name='hidden_1')(inputs)"
   ]
  },
  {
   "cell_type": "markdown",
   "metadata": {},
   "source": [
    "Parameter `name` is optional. It can be used to pass a name of any layer as an argument.\n",
    "\n",
    "Define the output layer and create a model."
   ]
  },
  {
   "cell_type": "code",
   "execution_count": 43,
   "metadata": {},
   "outputs": [],
   "source": [
    "from keras.models import Model\n",
    "output = Dense(1, activation='sigmoid')(hidden)\n",
    "model_API = Model(inputs=inputs, outputs=output)"
   ]
  },
  {
   "cell_type": "markdown",
   "metadata": {},
   "source": [
    "Model class is used to create a model from layers. It requires only the input and output layers specifications.\n",
    "\n",
    "Here is the model we built.\n",
    "![model_API](https://ilykei.com/api/fileProxy/documents%2FAdvanced%20Machine%20Learning%2FLecture%207%20AdvML%2Fmodel_API.png)  "
   ]
  },
  {
   "cell_type": "markdown",
   "metadata": {},
   "source": [
    "\n",
    "## Concatenating inputs\n",
    "\n",
    "Consider now more complex models. \n",
    "\n",
    "Sometimes in more complex models inputs from a list need to be *concatenated*.\n",
    "\n",
    "Input is a list of tensors and the result is a single tensor: concatenation of all inputs from the list. \n",
    "\n",
    "All tensors must have the same shape except for the concatenation axis. <br>\n",
    "The meaning of this condition can be illustrated on a simple example of tensors of rank 2 which are matrices. <br>\n",
    "\n",
    "Consider, for example, 2 matrices $A,~B$ with the same number of columns, but different number of rows:\n",
    "\n",
    "$$A=\\left(\\begin{array}{cc} \n",
    "a_{11} & a_{12} & a_{13} & a_{14} \\\\\n",
    "a_{21} & a_{22} & a_{23} & a_{24} \\\\\n",
    "a_{31} & a_{32} & a_{33} & a_{34}\n",
    "\\end{array}\\right)\n",
    "$$\n",
    "\n",
    "$$B=\\left(\\begin{array}{cc} \n",
    "b_{11} & b_{12} & b_{13} & b_{14} \\\\\n",
    "b_{21} & b_{22} & b_{23} & b_{24} \\\\\n",
    "b_{31} & b_{32} & b_{33} & b_{34} \\\\\n",
    "b_{41} & b_{42} & b_{43} & b_{44} \\\\\n",
    "b_{51} & b_{52} & b_{53} & b_{54}\n",
    "\\end{array}\\right)\n",
    "$$\n",
    "\n",
    "These matrices as inputs can be concatenated by first dimension (axis), i.e. by appending rows of $B$ to rows of $A$:\n",
    "\n",
    "$$\\left(\\begin{array}{cc} \n",
    "a_{11} & a_{12} & a_{13} & a_{14} \\\\\n",
    "a_{21} & a_{22} & a_{23} & a_{24} \\\\\n",
    "a_{31} & a_{32} & a_{33} & a_{34} \\\\\n",
    "b_{11} & b_{12} & b_{13} & b_{14} \\\\\n",
    "b_{21} & b_{22} & b_{23} & b_{24} \\\\\n",
    "b_{31} & b_{32} & b_{33} & b_{34} \\\\\n",
    "b_{41} & b_{42} & b_{43} & b_{44} \\\\\n",
    "b_{51} & b_{52} & b_{53} & b_{54}\n",
    "\\end{array}\\right)\n",
    "$$\n",
    "\n",
    "But they cannot be concatenated by the second dimension: columns of $A$ cannot be concatenated with columns of $B$ because the numbers of rows are different.\n",
    "\n",
    "Build a model with two inputs using layer of concatenated inputs."
   ]
  },
  {
   "cell_type": "code",
   "execution_count": 44,
   "metadata": {},
   "outputs": [
    {
     "ename": "ImportError",
     "evalue": "Failed to import `pydot`. Please install `pydot`. For example with `pip install pydot`.",
     "output_type": "error",
     "traceback": [
      "\u001b[1;31m---------------------------------------------------------------------------\u001b[0m",
      "\u001b[1;31mImportError\u001b[0m                               Traceback (most recent call last)",
      "\u001b[1;32m<ipython-input-44-734fbd63d87a>\u001b[0m in \u001b[0;36m<module>\u001b[1;34m\u001b[0m\n\u001b[0;32m      7\u001b[0m \u001b[0moutput\u001b[0m \u001b[1;33m=\u001b[0m \u001b[0mDense\u001b[0m\u001b[1;33m(\u001b[0m\u001b[1;36m1\u001b[0m\u001b[1;33m,\u001b[0m \u001b[0mactivation\u001b[0m\u001b[1;33m=\u001b[0m\u001b[1;34m'sigmoid'\u001b[0m\u001b[1;33m)\u001b[0m\u001b[1;33m(\u001b[0m\u001b[0mhidden2\u001b[0m\u001b[1;33m)\u001b[0m\u001b[1;33m\u001b[0m\u001b[1;33m\u001b[0m\u001b[0m\n\u001b[0;32m      8\u001b[0m \u001b[0mmodel_2_inputs\u001b[0m \u001b[1;33m=\u001b[0m \u001b[0mModel\u001b[0m\u001b[1;33m(\u001b[0m\u001b[0minputs\u001b[0m\u001b[1;33m=\u001b[0m\u001b[1;33m[\u001b[0m\u001b[0minput1\u001b[0m\u001b[1;33m,\u001b[0m\u001b[0minput2\u001b[0m\u001b[1;33m]\u001b[0m\u001b[1;33m,\u001b[0m \u001b[0moutputs\u001b[0m\u001b[1;33m=\u001b[0m\u001b[0moutput\u001b[0m\u001b[1;33m)\u001b[0m\u001b[1;33m\u001b[0m\u001b[1;33m\u001b[0m\u001b[0m\n\u001b[1;32m----> 9\u001b[1;33m \u001b[0mplot_model\u001b[0m\u001b[1;33m(\u001b[0m\u001b[0mmodel_2_inputs\u001b[0m\u001b[1;33m,\u001b[0m \u001b[0mto_file\u001b[0m\u001b[1;33m=\u001b[0m\u001b[1;34m'model_2_inputs.png'\u001b[0m\u001b[1;33m,\u001b[0m\u001b[0mshow_shapes\u001b[0m\u001b[1;33m=\u001b[0m\u001b[1;32mTrue\u001b[0m\u001b[1;33m,\u001b[0m\u001b[0mshow_layer_names\u001b[0m\u001b[1;33m=\u001b[0m\u001b[1;32mTrue\u001b[0m\u001b[1;33m)\u001b[0m\u001b[1;33m\u001b[0m\u001b[1;33m\u001b[0m\u001b[0m\n\u001b[0m",
      "\u001b[1;32m~\\anaconda3\\lib\\site-packages\\keras\\utils\\vis_utils.py\u001b[0m in \u001b[0;36mplot_model\u001b[1;34m(model, to_file, show_shapes, show_layer_names, rankdir, expand_nested, dpi)\u001b[0m\n\u001b[0;32m    238\u001b[0m     \"\"\"\n\u001b[0;32m    239\u001b[0m     dot = model_to_dot(model, show_shapes, show_layer_names, rankdir,\n\u001b[1;32m--> 240\u001b[1;33m                        expand_nested, dpi)\n\u001b[0m\u001b[0;32m    241\u001b[0m     \u001b[0m_\u001b[0m\u001b[1;33m,\u001b[0m \u001b[0mextension\u001b[0m \u001b[1;33m=\u001b[0m \u001b[0mos\u001b[0m\u001b[1;33m.\u001b[0m\u001b[0mpath\u001b[0m\u001b[1;33m.\u001b[0m\u001b[0msplitext\u001b[0m\u001b[1;33m(\u001b[0m\u001b[0mto_file\u001b[0m\u001b[1;33m)\u001b[0m\u001b[1;33m\u001b[0m\u001b[1;33m\u001b[0m\u001b[0m\n\u001b[0;32m    242\u001b[0m     \u001b[1;32mif\u001b[0m \u001b[1;32mnot\u001b[0m \u001b[0mextension\u001b[0m\u001b[1;33m:\u001b[0m\u001b[1;33m\u001b[0m\u001b[1;33m\u001b[0m\u001b[0m\n",
      "\u001b[1;32m~\\anaconda3\\lib\\site-packages\\keras\\utils\\vis_utils.py\u001b[0m in \u001b[0;36mmodel_to_dot\u001b[1;34m(model, show_shapes, show_layer_names, rankdir, expand_nested, dpi, subgraph)\u001b[0m\n\u001b[0;32m     77\u001b[0m     \u001b[1;32mfrom\u001b[0m \u001b[1;33m.\u001b[0m\u001b[1;33m.\u001b[0m\u001b[0mmodels\u001b[0m \u001b[1;32mimport\u001b[0m \u001b[0mSequential\u001b[0m\u001b[1;33m\u001b[0m\u001b[1;33m\u001b[0m\u001b[0m\n\u001b[0;32m     78\u001b[0m \u001b[1;33m\u001b[0m\u001b[0m\n\u001b[1;32m---> 79\u001b[1;33m     \u001b[0m_check_pydot\u001b[0m\u001b[1;33m(\u001b[0m\u001b[1;33m)\u001b[0m\u001b[1;33m\u001b[0m\u001b[1;33m\u001b[0m\u001b[0m\n\u001b[0m\u001b[0;32m     80\u001b[0m     \u001b[1;32mif\u001b[0m \u001b[0msubgraph\u001b[0m\u001b[1;33m:\u001b[0m\u001b[1;33m\u001b[0m\u001b[1;33m\u001b[0m\u001b[0m\n\u001b[0;32m     81\u001b[0m         \u001b[0mdot\u001b[0m \u001b[1;33m=\u001b[0m \u001b[0mpydot\u001b[0m\u001b[1;33m.\u001b[0m\u001b[0mCluster\u001b[0m\u001b[1;33m(\u001b[0m\u001b[0mstyle\u001b[0m\u001b[1;33m=\u001b[0m\u001b[1;34m'dashed'\u001b[0m\u001b[1;33m,\u001b[0m \u001b[0mgraph_name\u001b[0m\u001b[1;33m=\u001b[0m\u001b[0mmodel\u001b[0m\u001b[1;33m.\u001b[0m\u001b[0mname\u001b[0m\u001b[1;33m)\u001b[0m\u001b[1;33m\u001b[0m\u001b[1;33m\u001b[0m\u001b[0m\n",
      "\u001b[1;32m~\\anaconda3\\lib\\site-packages\\keras\\utils\\vis_utils.py\u001b[0m in \u001b[0;36m_check_pydot\u001b[1;34m()\u001b[0m\n\u001b[0;32m     20\u001b[0m     \u001b[1;32mif\u001b[0m \u001b[0mpydot\u001b[0m \u001b[1;32mis\u001b[0m \u001b[1;32mNone\u001b[0m\u001b[1;33m:\u001b[0m\u001b[1;33m\u001b[0m\u001b[1;33m\u001b[0m\u001b[0m\n\u001b[0;32m     21\u001b[0m         raise ImportError(\n\u001b[1;32m---> 22\u001b[1;33m             \u001b[1;34m'Failed to import `pydot`. '\u001b[0m\u001b[1;33m\u001b[0m\u001b[1;33m\u001b[0m\u001b[0m\n\u001b[0m\u001b[0;32m     23\u001b[0m             \u001b[1;34m'Please install `pydot`. '\u001b[0m\u001b[1;33m\u001b[0m\u001b[1;33m\u001b[0m\u001b[0m\n\u001b[0;32m     24\u001b[0m             'For example with `pip install pydot`.')\n",
      "\u001b[1;31mImportError\u001b[0m: Failed to import `pydot`. Please install `pydot`. For example with `pip install pydot`."
     ]
    }
   ],
   "source": [
    "from keras.layers import concatenate\n",
    "input1 = Input(shape=(10,), name='input_1')\n",
    "hidden = Dense(3, activation='relu',name='hidden1')(input1)\n",
    "input2 = Input(shape=(5,), name='input_2')\n",
    "merge = concatenate([hidden,input2], name='merge')\n",
    "hidden2 = Dense(3, activation='relu',name='hidden2')(merge)\n",
    "output = Dense(1, activation='sigmoid')(hidden2)\n",
    "model_2_inputs = Model(inputs=[input1,input2], outputs=output)\n",
    "plot_model(model_2_inputs, to_file='model_2_inputs.png',show_shapes=True,show_layer_names=True)"
   ]
  },
  {
   "cell_type": "markdown",
   "metadata": {},
   "source": [
    "Here is the result.\n",
    "![model_2_inputs](https://ilykei.com/api/fileProxy/documents%2FAdvanced%20Machine%20Learning%2FLecture%207%20AdvML%2Fmodel_2_inputs.png)  \n",
    "\n",
    "## Shared layers\n",
    "\n",
    "Another way of adding flexibility to network design is shared layers.\n",
    "\n",
    "To share a layer across different inputs, simply instantiate the layer once, then call it on as many inputs as necessary:"
   ]
  },
  {
   "cell_type": "code",
   "execution_count": 14,
   "metadata": {},
   "outputs": [],
   "source": [
    "input1 = Input(shape=(8,), name='input_1')\n",
    "input2 = Input(shape=(8,), name='input_2')\n",
    "shared = Dense(5, activation='relu',name='shared')\n",
    "x1 = shared(input1)\n",
    "x2 = shared(input2)\n",
    "output1 = Dense(1, activation='sigmoid', name='output_1')(x1)\n",
    "output2 = Dense(1, activation='sigmoid', name='output_2')(x2)\n",
    "model_shared = Model(inputs=[input1,input2], outputs=[output1,output2])\n",
    "plot_model(model_shared, to_file='model_shared.png',\n",
    "           show_shapes=True,show_layer_names=True)"
   ]
  },
  {
   "cell_type": "markdown",
   "metadata": {},
   "source": [
    "The resulting model has two inputs, two outputs and shared layer\n",
    "![model_shared](https://ilykei.com/api/fileProxy/documents%2FAdvanced%20Machine%20Learning%2FLecture%207%20AdvML%2Fmodel_shared.png)  \n",
    "\n",
    "Note that when we reuse the same layer instance  multiple times, the weights of the layer  are also being reused  (it is effectively the same layer)"
   ]
  },
  {
   "cell_type": "markdown",
   "metadata": {},
   "source": [
    "<font color=blue>\n",
    "\n",
    "**Assignment 1**\n",
    "\n",
    "Write code creating the following network architecture as *test_model1*.\n",
    "\n",
    "![test_model1](https://ilykei.com/api/fileProxy/documents%2FAdvanced%20Machine%20Learning%2FLecture%207%20AdvML%2Ftest_model1.png) \n",
    "\n",
    "Print out the plot of the resulting model.\n",
    "\n",
    "Enter code in the following cell."
   ]
  },
  {
   "cell_type": "code",
   "execution_count": 15,
   "metadata": {
    "scrolled": true
   },
   "outputs": [],
   "source": [
    "#Skipped code\n",
    "# Assignment 1\n",
    "\n",
    "\n",
    "\n",
    "\n",
    "\n",
    "\n",
    "\n",
    "#plot_model(test_model1, to_file='test_model1.png',\n",
    "#           show_shapes=True,show_layer_names=True)"
   ]
  },
  {
   "cell_type": "markdown",
   "metadata": {},
   "source": [
    "![test_model1](./test_model1.png) \n"
   ]
  },
  {
   "cell_type": "markdown",
   "metadata": {},
   "source": [
    "## Merge layers\n",
    "\n",
    "Merge layers is a set of layers that merge input tensors  executing arithmetic operations over them or just concatenating them. \n",
    "\n",
    "The list of merge layers is not large: \n",
    "- Add, Subtract, Multiply, Average, Maximum  - take as input a list of tensors, all of the same shape, and return a single tensor (also of the same shape) - the result of corresponding pointwise arithmetic operation \n",
    "- Dot - dot product, \n",
    "- Concatenate has been already discussed earlier. \n",
    "\n",
    "Functional API uses lowercase variants of their names. Import them from `keras.layers` before using, e.g.\n",
    "\n",
    "`from keras.layers import add`\n",
    "\n",
    "NB! Though `subtract` layer is described in Keras documentation it may not work in earlier versions giving the error message **\"cannot import name 'subtract'\"** when you try to import it. \n",
    "In order to subtract two inputs you may use `Lambda` core layer that wraps arbitrary expression as a Layer object. For example, the following line:  "
   ]
  },
  {
   "cell_type": "code",
   "execution_count": 15,
   "metadata": {},
   "outputs": [],
   "source": [
    "from keras.layers import Input, Lambda\n",
    "sqr_input = Lambda(lambda x: x*x)(input1)"
   ]
  },
  {
   "cell_type": "markdown",
   "metadata": {},
   "source": [
    "defines layer that returns squared input. \n",
    "\n",
    "Here is a way of subtracting two inputs using `Lambda` layer"
   ]
  },
  {
   "cell_type": "code",
   "execution_count": 16,
   "metadata": {},
   "outputs": [],
   "source": [
    "x = Input(shape=(100,))\n",
    "y = Input(shape=(100,))\n",
    "# Note: shapes must match!\n",
    "subtract_layer = Lambda(lambda inputs: inputs[0] - inputs[1])\n",
    "diff = subtract_layer([x, y])"
   ]
  },
  {
   "cell_type": "markdown",
   "metadata": {},
   "source": [
    "<font color=blue>\n",
    "    \n",
    "**Assignment 2**\n",
    "\n",
    "Create network with two inputs. <br>\n",
    "Input shapes are (10,) and (20,). <br>\n",
    "Each input is processed with its own Dense layer `hidden1` and `hidden2` consisting of 5 neurons. <br>\n",
    "The network output should be square of differences of outputs of `hidden1` and `hidden2`. <br>\n",
    "Draw this network. "
   ]
  },
  {
   "cell_type": "code",
   "execution_count": 18,
   "metadata": {
    "scrolled": true
   },
   "outputs": [],
   "source": [
    "#Skipped code\n",
    "# Assignment 2 \n",
    "\n"
   ]
  },
  {
   "cell_type": "markdown",
   "metadata": {},
   "source": [
    "![test_model5](https://ilykei.com/api/fileProxy/documents%2FAdvanced%20Machine%20Learning%2FLecture%207%20AdvML%2Ftest_model5.png)"
   ]
  },
  {
   "cell_type": "markdown",
   "metadata": {},
   "source": [
    "# Compile model\n",
    "\n",
    "Once the model architecture is finalized, configure its learning process using `compile()`, for example:"
   ]
  },
  {
   "cell_type": "code",
   "execution_count": 17,
   "metadata": {},
   "outputs": [],
   "source": [
    "model.compile(loss='categorical_crossentropy', optimizer='sgd')"
   ]
  },
  {
   "cell_type": "markdown",
   "metadata": {},
   "source": [
    "Here `model` is the sequential model created above.  \n",
    "\n",
    "Compillation of the model requires declaration of the loss function (objective function) and the optimizer.\n",
    "\n",
    "Keras has a variety of [loss functions](https://keras.io/losses/) and [optimizers](https://keras.io/optimizers/) to choose from. \n",
    "\n",
    "An optional parameter `metrics` also can be set. Metric is a function (or list of functions) that is used to judge the performance of the model. \n",
    "\n",
    "Metric can be selected from the [list of available metrics](https://keras.io/metrics/) or passed as custom metric function name during the compilation step. <br>\n",
    "The function would need to take  `(y_true, y_pred)` as arguments and return a single tensor value.\n",
    "\n",
    "In the example below we use logarithmic loss as objective function, which for a binary classification problem is defined in Keras as `binary_crossentropy`. \n",
    "\n",
    "We can also use gradient descent algorithm `adam` and choose `accuracy` as metric for collectiing and reporting during training."
   ]
  },
  {
   "cell_type": "code",
   "execution_count": 18,
   "metadata": {},
   "outputs": [],
   "source": [
    "model.compile(loss='binary_crossentropy', optimizer='adam',\n",
    "              metrics=['accuracy'])"
   ]
  },
  {
   "cell_type": "markdown",
   "metadata": {},
   "source": [
    "# Data for example\n",
    "\n",
    "Example in this notebook use [**Breast cancer Wisconsin dataset**](https://archive.ics.uci.edu/ml/datasets/Breast+Cancer+Wisconsin+(Diagnostic)). \n",
    "\n",
    "The breast cancer dataset is a well known data for binary classification. It was created by Dr. William H. Wolberg, physician at the University Of Wisconsin Hospital at Madison, Wisconsin, USA.\n",
    "\n",
    "Features are created from a digitized images of a [fine needle aspirate (FNA)](https://en.wikipedia.org/wiki/Fine-needle_aspiration), a biopsy method, of a breast mass. They describe characteristics of the cell nuclei present in the image.\n",
    "\n",
    "To create the dataset Dr. Wolberg used ﬂuid samples, taken from patients with solid breast masses and graphical software [Xcyt](http://software.broadinstitute.org/mpg/xcyt/) capable of performing analysis of cytological features on a digital scan. \n",
    "\n",
    "Main research article on the subject of this analysis, including an image of malignant cells, is [Wisconsin Breast Cancer Dataset and Machine Learning for Breast Cancer Detection, by Lucas Rodrigues Borges](https://www.researchgate.net/publication/311950799_Analysis_of_the_Wisconsin_Breast_Cancer_Dataset_and_Machine_Learning_for_Breast_Cancer_Detection [accessed Nov 09 2017]).\n",
    "\n",
    "The data set has following characteristics:\n",
    "\n",
    "- Classes:\t2\n",
    "- Samples per class:\t212(malignant), 357(benign)\n",
    "- Samples total:\t569\n",
    "- Dimensionality:\t30\n",
    "- Features:\treal, positive\n",
    "\n",
    "Load the data using utility `load_breast_cancer` from `sklearn.datasets` module. <br>\n",
    "Print names of the features and dimensions of the data."
   ]
  },
  {
   "cell_type": "code",
   "execution_count": 19,
   "metadata": {
    "scrolled": true
   },
   "outputs": [
    {
     "name": "stdout",
     "output_type": "stream",
     "text": [
      "['mean radius' 'mean texture' 'mean perimeter' 'mean area'\n",
      " 'mean smoothness' 'mean compactness' 'mean concavity'\n",
      " 'mean concave points' 'mean symmetry' 'mean fractal dimension'\n",
      " 'radius error' 'texture error' 'perimeter error' 'area error'\n",
      " 'smoothness error' 'compactness error' 'concavity error'\n",
      " 'concave points error' 'symmetry error' 'fractal dimension error'\n",
      " 'worst radius' 'worst texture' 'worst perimeter' 'worst area'\n",
      " 'worst smoothness' 'worst compactness' 'worst concavity'\n",
      " 'worst concave points' 'worst symmetry' 'worst fractal dimension']\n",
      "data (569, 30) labels (569,)\n"
     ]
    }
   ],
   "source": [
    "%matplotlib inline\n",
    "from sklearn.datasets import load_breast_cancer\n",
    "data  = load_breast_cancer()\n",
    "print(data.feature_names)\n",
    "print('data',data.data.shape,'labels',data.target.shape)"
   ]
  },
  {
   "cell_type": "markdown",
   "metadata": {},
   "source": [
    "# Fit model on training data\n",
    "\n",
    "Training or fitting the model on loaded data is done by calling method `fit` on the model. \n",
    "\n",
    "Split the breast cancer dataset into train and test subsets and train simple sequential architecture defined above with one hidden layer with 3 units and `relu` activation function, followed by one output unit with sigmoid activation.\n",
    "\n",
    "![Model plot](https://ilykei.com/api/fileProxy/documents%2FAdvanced%20Machine%20Learning%2FLecture%207%20AdvML%2FR_nn_plot.png)\n"
   ]
  },
  {
   "cell_type": "code",
   "execution_count": 20,
   "metadata": {},
   "outputs": [],
   "source": [
    "from sklearn.model_selection import train_test_split\n",
    "\n",
    "X_train, X_test, y_train, y_test = train_test_split(data.data, data.target,\n",
    "                                                    test_size=0.2, random_state=1)\n",
    "def get_model_simple():\n",
    "    model = Sequential([Dense(3, input_dim=30),Activation('relu'),\n",
    "    Dense(1),Activation('sigmoid')])\n",
    "    model.compile(loss='binary_crossentropy', optimizer='adam',\n",
    "                  metrics=['accuracy'])\n",
    "    return model\n"
   ]
  },
  {
   "cell_type": "markdown",
   "metadata": {},
   "source": [
    "Creating and compiling model by a function instead of creating it directly allows experimenting and fitting with the model multiple times. <br>\n",
    "If model is fitted again it will use the previously fitted weights which makes fitting experiment incorrect. <br>\n",
    "In order to reinitialize weights call function generating the model.  \n",
    "\n",
    "Fit the model on train set using 10 epochs and iterating on the data in batches of 32 samples.\n",
    "\n",
    "- Parameter `epoch` is an arbitrary cutoff, typically means one pass over entire dataset, used to separate training process in distinct phases. <br>\n",
    "- Parameter `batch_size` is size of batch, a set of samples (observations) that is a subsample processed simultaneously. Processing of each batch results in one update of the network weights. <br>\n",
    "- Batch approximates distribution of weights better than single observation. The larger the batch the better the approximation. But larger batch processing requires more memory. \n",
    "- For evaluation or prediction it is recommended to use as large batch size as mempry allows since it makes the inference faster."
   ]
  },
  {
   "cell_type": "code",
   "execution_count": 21,
   "metadata": {},
   "outputs": [
    {
     "name": "stdout",
     "output_type": "stream",
     "text": [
      "Epoch 1/30\n",
      "455/455 [==============================] - 0s 1ms/step - loss: 5.9565 - acc: 0.6264\n",
      "Epoch 2/30\n",
      "455/455 [==============================] - 0s 112us/step - loss: 5.9565 - acc: 0.6264\n",
      "Epoch 3/30\n",
      "455/455 [==============================] - 0s 182us/step - loss: 5.9565 - acc: 0.6264\n",
      "Epoch 4/30\n",
      "455/455 [==============================] - 0s 148us/step - loss: 5.9565 - acc: 0.6264\n",
      "Epoch 5/30\n",
      "455/455 [==============================] - 0s 152us/step - loss: 5.9565 - acc: 0.6264\n",
      "Epoch 6/30\n",
      "455/455 [==============================] - 0s 186us/step - loss: 5.9565 - acc: 0.6264\n",
      "Epoch 7/30\n",
      "455/455 [==============================] - 0s 179us/step - loss: 5.9565 - acc: 0.6264\n",
      "Epoch 8/30\n",
      "455/455 [==============================] - 0s 168us/step - loss: 5.9565 - acc: 0.6264\n",
      "Epoch 9/30\n",
      "455/455 [==============================] - 0s 139us/step - loss: 5.9565 - acc: 0.6264\n",
      "Epoch 10/30\n",
      "455/455 [==============================] - 0s 187us/step - loss: 5.9565 - acc: 0.6264\n",
      "Epoch 11/30\n",
      "455/455 [==============================] - 0s 352us/step - loss: 5.9565 - acc: 0.6264\n",
      "Epoch 12/30\n",
      "455/455 [==============================] - 0s 218us/step - loss: 5.9565 - acc: 0.6264\n",
      "Epoch 13/30\n",
      "455/455 [==============================] - 0s 126us/step - loss: 5.9565 - acc: 0.6264\n",
      "Epoch 14/30\n",
      "455/455 [==============================] - 0s 164us/step - loss: 5.9565 - acc: 0.6264\n",
      "Epoch 15/30\n",
      "455/455 [==============================] - 0s 187us/step - loss: 5.9565 - acc: 0.6264\n",
      "Epoch 16/30\n",
      "455/455 [==============================] - 0s 247us/step - loss: 5.9565 - acc: 0.6264\n",
      "Epoch 17/30\n",
      "455/455 [==============================] - 0s 210us/step - loss: 5.9565 - acc: 0.6264\n",
      "Epoch 18/30\n",
      "455/455 [==============================] - 0s 275us/step - loss: 5.9565 - acc: 0.6264\n",
      "Epoch 19/30\n",
      "455/455 [==============================] - 0s 205us/step - loss: 5.9565 - acc: 0.6264\n",
      "Epoch 20/30\n",
      "455/455 [==============================] - 0s 192us/step - loss: 5.9565 - acc: 0.6264\n",
      "Epoch 21/30\n",
      "455/455 [==============================] - 0s 237us/step - loss: 5.9565 - acc: 0.6264\n",
      "Epoch 22/30\n",
      "455/455 [==============================] - 0s 139us/step - loss: 5.9565 - acc: 0.6264\n",
      "Epoch 23/30\n",
      "455/455 [==============================] - 0s 194us/step - loss: 5.9565 - acc: 0.6264\n",
      "Epoch 24/30\n",
      "455/455 [==============================] - 0s 159us/step - loss: 5.9565 - acc: 0.6264\n",
      "Epoch 25/30\n",
      "455/455 [==============================] - 0s 101us/step - loss: 5.9565 - acc: 0.6264\n",
      "Epoch 26/30\n",
      "455/455 [==============================] - 0s 160us/step - loss: 5.9565 - acc: 0.6264\n",
      "Epoch 27/30\n",
      "455/455 [==============================] - 0s 327us/step - loss: 5.9565 - acc: 0.6264\n",
      "Epoch 28/30\n",
      "455/455 [==============================] - 0s 195us/step - loss: 5.9565 - acc: 0.6264\n",
      "Epoch 29/30\n",
      "455/455 [==============================] - 0s 215us/step - loss: 5.9565 - acc: 0.6264\n",
      "Epoch 30/30\n",
      "455/455 [==============================] - 0s 132us/step - loss: 5.9565 - acc: 0.6264\n"
     ]
    },
    {
     "data": {
      "text/plain": [
       "<keras.callbacks.History at 0x7f738363d550>"
      ]
     },
     "execution_count": 21,
     "metadata": {},
     "output_type": "execute_result"
    }
   ],
   "source": [
    "model = get_model_simple()\n",
    "model.fit(X_train, y_train, epochs=30, batch_size=32)"
   ]
  },
  {
   "cell_type": "markdown",
   "metadata": {},
   "source": [
    "There is no progress in training process: loss stalled and accuracy does not go high enough (results may vary from run to run). <br>\n",
    "Scale the input data and fit the model again. <br>\n",
    "Note that first call of the scaler is `fit_transform`, but the second is just `transform`: test sample are scaled by the same amounts as train. "
   ]
  },
  {
   "cell_type": "code",
   "execution_count": 22,
   "metadata": {},
   "outputs": [
    {
     "name": "stdout",
     "output_type": "stream",
     "text": [
      "Epoch 1/30\n",
      "455/455 [==============================] - 0s 744us/step - loss: 0.6692 - acc: 0.6593\n",
      "Epoch 2/30\n",
      "455/455 [==============================] - 0s 80us/step - loss: 0.5906 - acc: 0.7912\n",
      "Epoch 3/30\n",
      "455/455 [==============================] - 0s 195us/step - loss: 0.5298 - acc: 0.8527\n",
      "Epoch 4/30\n",
      "455/455 [==============================] - 0s 157us/step - loss: 0.4813 - acc: 0.8769\n",
      "Epoch 5/30\n",
      "455/455 [==============================] - 0s 178us/step - loss: 0.4432 - acc: 0.8857\n",
      "Epoch 6/30\n",
      "455/455 [==============================] - 0s 212us/step - loss: 0.4101 - acc: 0.9011\n",
      "Epoch 7/30\n",
      "455/455 [==============================] - 0s 193us/step - loss: 0.3827 - acc: 0.9099\n",
      "Epoch 8/30\n",
      "455/455 [==============================] - 0s 145us/step - loss: 0.3589 - acc: 0.9143\n",
      "Epoch 9/30\n",
      "455/455 [==============================] - 0s 169us/step - loss: 0.3376 - acc: 0.9143\n",
      "Epoch 10/30\n",
      "455/455 [==============================] - 0s 298us/step - loss: 0.3173 - acc: 0.9187\n",
      "Epoch 11/30\n",
      "455/455 [==============================] - 0s 255us/step - loss: 0.3000 - acc: 0.9231\n",
      "Epoch 12/30\n",
      "455/455 [==============================] - 0s 189us/step - loss: 0.2846 - acc: 0.9231\n",
      "Epoch 13/30\n",
      "455/455 [==============================] - 0s 223us/step - loss: 0.2702 - acc: 0.9297\n",
      "Epoch 14/30\n",
      "455/455 [==============================] - 0s 338us/step - loss: 0.2575 - acc: 0.9319\n",
      "Epoch 15/30\n",
      "455/455 [==============================] - 0s 223us/step - loss: 0.2456 - acc: 0.9341\n",
      "Epoch 16/30\n",
      "455/455 [==============================] - 0s 294us/step - loss: 0.2354 - acc: 0.9407\n",
      "Epoch 17/30\n",
      "455/455 [==============================] - 0s 218us/step - loss: 0.2255 - acc: 0.9429\n",
      "Epoch 18/30\n",
      "455/455 [==============================] - 0s 225us/step - loss: 0.2159 - acc: 0.9451\n",
      "Epoch 19/30\n",
      "455/455 [==============================] - 0s 255us/step - loss: 0.2066 - acc: 0.9473\n",
      "Epoch 20/30\n",
      "455/455 [==============================] - 0s 215us/step - loss: 0.1984 - acc: 0.9516\n",
      "Epoch 21/30\n",
      "455/455 [==============================] - 0s 205us/step - loss: 0.1906 - acc: 0.9516\n",
      "Epoch 22/30\n",
      "455/455 [==============================] - 0s 195us/step - loss: 0.1832 - acc: 0.9516\n",
      "Epoch 23/30\n",
      "455/455 [==============================] - 0s 169us/step - loss: 0.1771 - acc: 0.9516\n",
      "Epoch 24/30\n",
      "455/455 [==============================] - 0s 185us/step - loss: 0.1713 - acc: 0.9538\n",
      "Epoch 25/30\n",
      "455/455 [==============================] - 0s 241us/step - loss: 0.1661 - acc: 0.9538\n",
      "Epoch 26/30\n",
      "455/455 [==============================] - 0s 252us/step - loss: 0.1610 - acc: 0.9560\n",
      "Epoch 27/30\n",
      "455/455 [==============================] - 0s 174us/step - loss: 0.1563 - acc: 0.9538\n",
      "Epoch 28/30\n",
      "455/455 [==============================] - 0s 221us/step - loss: 0.1520 - acc: 0.9538\n",
      "Epoch 29/30\n",
      "455/455 [==============================] - 0s 165us/step - loss: 0.1479 - acc: 0.9538\n",
      "Epoch 30/30\n",
      "455/455 [==============================] - 0s 127us/step - loss: 0.1441 - acc: 0.9538\n"
     ]
    }
   ],
   "source": [
    "from sklearn.preprocessing import StandardScaler\n",
    "scaler = StandardScaler()\n",
    "X_train = scaler.fit_transform(X_train)\n",
    "X_test = scaler.transform(X_test)\n",
    "model = get_model_simple()\n",
    "hist = model.fit(X_train, y_train, epochs=30, batch_size=32)"
   ]
  },
  {
   "cell_type": "markdown",
   "metadata": {},
   "source": [
    "After scaling both logloss and accuracy measures have improved very significantly."
   ]
  },
  {
   "cell_type": "markdown",
   "metadata": {},
   "source": [
    "Method `fit` returns a History object. <br>\n",
    "Its `.history` attribute is a record of training loss values and metrics values at successive epochs, as well as validation loss values and validation metrics values (if applicable)."
   ]
  },
  {
   "cell_type": "code",
   "execution_count": 24,
   "metadata": {},
   "outputs": [
    {
     "name": "stdout",
     "output_type": "stream",
     "text": [
      "dict_keys(['loss', 'acc'])\n",
      "best train loss 0.144133388325\n"
     ]
    }
   ],
   "source": [
    "print(hist.history.keys())\n",
    "print('best train loss', min(hist.history[\"loss\"]))"
   ]
  },
  {
   "cell_type": "markdown",
   "metadata": {},
   "source": [
    "Now predict test labels using method *'predict'* and evaluate prediction."
   ]
  },
  {
   "cell_type": "code",
   "execution_count": 25,
   "metadata": {},
   "outputs": [
    {
     "data": {
      "text/plain": [
       "(114, 1)"
      ]
     },
     "execution_count": 25,
     "metadata": {},
     "output_type": "execute_result"
    }
   ],
   "source": [
    "pred1 = model.predict(X_test)\n",
    "pred1.shape"
   ]
  },
  {
   "cell_type": "markdown",
   "metadata": {},
   "source": [
    "Method `evaluate` returns values of all metrics the model calculates. Their names are in the attribute `metrics_names`."
   ]
  },
  {
   "cell_type": "code",
   "execution_count": 26,
   "metadata": {},
   "outputs": [
    {
     "name": "stdout",
     "output_type": "stream",
     "text": [
      "['loss', 'acc']\n",
      "[0.17968957988839401, 0.96491228070175439]\n"
     ]
    }
   ],
   "source": [
    "print(model.metrics_names)\n",
    "print(model.evaluate(X_test, y_test,verbose=0))"
   ]
  },
  {
   "cell_type": "code",
   "execution_count": 45,
   "metadata": {},
   "outputs": [
    {
     "ename": "NameError",
     "evalue": "name 'y_test' is not defined",
     "output_type": "error",
     "traceback": [
      "\u001b[1;31m---------------------------------------------------------------------------\u001b[0m",
      "\u001b[1;31mNameError\u001b[0m                                 Traceback (most recent call last)",
      "\u001b[1;32m<ipython-input-45-4555f103594d>\u001b[0m in \u001b[0;36m<module>\u001b[1;34m\u001b[0m\n\u001b[0;32m      2\u001b[0m \u001b[1;31m# blue for class 0, orange for class 1\u001b[0m\u001b[1;33m\u001b[0m\u001b[1;33m\u001b[0m\u001b[1;33m\u001b[0m\u001b[0m\n\u001b[0;32m      3\u001b[0m \u001b[1;32mimport\u001b[0m \u001b[0mmatplotlib\u001b[0m\u001b[1;33m.\u001b[0m\u001b[0mpyplot\u001b[0m \u001b[1;32mas\u001b[0m \u001b[0mplt\u001b[0m\u001b[1;33m\u001b[0m\u001b[1;33m\u001b[0m\u001b[0m\n\u001b[1;32m----> 4\u001b[1;33m \u001b[0mcolor\u001b[0m \u001b[1;33m=\u001b[0m \u001b[1;33m[\u001b[0m\u001b[1;34m'blue'\u001b[0m \u001b[1;32mif\u001b[0m \u001b[0my\u001b[0m\u001b[1;33m==\u001b[0m\u001b[1;36m0\u001b[0m \u001b[1;32melse\u001b[0m \u001b[1;34m'orange'\u001b[0m \u001b[1;32mfor\u001b[0m \u001b[0my\u001b[0m \u001b[1;32min\u001b[0m \u001b[0my_test\u001b[0m\u001b[1;33m]\u001b[0m\u001b[1;33m\u001b[0m\u001b[1;33m\u001b[0m\u001b[0m\n\u001b[0m\u001b[0;32m      5\u001b[0m \u001b[0mplt\u001b[0m\u001b[1;33m.\u001b[0m\u001b[0mscatter\u001b[0m\u001b[1;33m(\u001b[0m\u001b[0mrange\u001b[0m\u001b[1;33m(\u001b[0m\u001b[0mlen\u001b[0m\u001b[1;33m(\u001b[0m\u001b[0mpred1\u001b[0m\u001b[1;33m)\u001b[0m\u001b[1;33m)\u001b[0m\u001b[1;33m,\u001b[0m \u001b[0mpred1\u001b[0m\u001b[1;33m,\u001b[0m \u001b[0mcolor\u001b[0m\u001b[1;33m=\u001b[0m\u001b[0mcolor\u001b[0m\u001b[1;33m)\u001b[0m\u001b[1;33m\u001b[0m\u001b[1;33m\u001b[0m\u001b[0m\n\u001b[0;32m      6\u001b[0m \u001b[0mplt\u001b[0m\u001b[1;33m.\u001b[0m\u001b[0mtitle\u001b[0m\u001b[1;33m(\u001b[0m\u001b[1;34m'Probability of class 1'\u001b[0m\u001b[1;33m)\u001b[0m\u001b[1;33m\u001b[0m\u001b[1;33m\u001b[0m\u001b[0m\n",
      "\u001b[1;31mNameError\u001b[0m: name 'y_test' is not defined"
     ]
    }
   ],
   "source": [
    "# plot predictions and true labels\n",
    "# blue for class 0, orange for class 1\n",
    "import matplotlib.pyplot as plt\n",
    "color = ['blue' if y==0 else 'orange' for y in y_test]\n",
    "plt.scatter(range(len(pred1)), pred1, color=color)\n",
    "plt.title('Probability of class 1')"
   ]
  },
  {
   "cell_type": "markdown",
   "metadata": {},
   "source": [
    "<font color=blue>\n",
    "    \n",
    "**Assignment 3** <br>\n",
    "Define sequential model with two hidden layers of 5 and 10 units followed by `relu` activation and one output unit with `sigmoid` activation similar to the architecture in [MScA_31009_ML_DeepLearning_TF_Intro_3.html](https://ilykei.com/api/fileProxy/documents%2FAdvanced%20Data%20Mining%20and%20Predictive%20Analytics%2031009%2FLecture%20Deep%20Learning%2FMScA_31009_ML_DeepLearning_TF_Intro_3.html).\n",
    "Create a function `get_model_1()` that adds layers and compiles the model with loss as `binary_crossentropy`, optimizer `adam` and metrics `accuracy`."
   ]
  },
  {
   "cell_type": "markdown",
   "metadata": {},
   "source": [
    "\n",
    "![Model plot](https://ilykei.com/api/fileProxy/documents%2FAdvanced%20Machine%20Learning%2FLecture%207%20AdvML%2FWBCD_5_10_Architecture.png)"
   ]
  },
  {
   "cell_type": "markdown",
   "metadata": {},
   "source": [
    "<font color=blue>\n",
    "Fit the model using 30 epochs and batch size 32. <br>\n",
    "Print best train loss. <br>\n",
    "Evaluate the model on test data using both metrics. <br>\n",
    "Plot predictions and true labels. <br>\n",
    "Plot predictions and true labels.\n",
    "Enter code in the following cell."
   ]
  },
  {
   "cell_type": "code",
   "execution_count": 29,
   "metadata": {},
   "outputs": [],
   "source": [
    "# Skipped code\n",
    "# function get_model_1(), compilation and fitting\n",
    "# evaluate model on test data, print both metrics\n",
    "# dict_keys(['loss', 'acc'])\n",
    "# best train loss 0.0752962507881\n",
    "# ['loss', 'acc']\n",
    "# [0.11679617080249284, 0.97368421052631582]\n",
    "# Plot predictions and true labels\n",
    "\n"
   ]
  },
  {
   "cell_type": "markdown",
   "metadata": {},
   "source": [
    "## Batch normalization in Keras\n",
    "\n",
    "Keras has its own tool for data scaling: `BatchNormalization` layer. <br>\n",
    "It normalizes the activations of the previous layer at each batch, i.e. applies a transformation that maintains the mean activation (previous layer' output) close to 0 and the activation standard deviation close to 1. <br>\n",
    "Sergey Ioffe and Christian Szegedy show in [Batch Normalization: Accelerating Deep Network Training by Reducing Internal Covariate Shift](https://arxiv.org/abs/1502.03167) that Batch Normalization improves convergence speed  of deep neural networks.  \n",
    "\n",
    "In order to apply BatchNormalization to the `previous_layer` in Keras functional API you need two lines of code:\n",
    "\n",
    "`from keras.layers import BatchNormalization`  \n",
    "`scaled = BatchNormalization()(input1)`"
   ]
  },
  {
   "cell_type": "markdown",
   "metadata": {},
   "source": [
    "In the following cell: \n",
    "\n",
    "1. Modify function `get_model_1` into `get_model_2` in functional API and insert BatchNormalization layer after `input1`. <br>\n",
    "2. Currently `X_train`, `X_test` are scaled. In order to restore the original train and test split the data again. \n",
    "3. Run fitting 10 times and average the results. \n",
    "4. Set verbose=0 in the fit() call to remove unnecessary logging. \n",
    "5. Print loss function on every iteration.\n"
   ]
  },
  {
   "cell_type": "code",
   "execution_count": 28,
   "metadata": {},
   "outputs": [
    {
     "name": "stdout",
     "output_type": "stream",
     "text": [
      "0 0.222527108874\n",
      "1 0.39269849717\n",
      "2 0.196402124193\n",
      "3 0.286492787875\n",
      "4 0.188922199869\n",
      "5 0.216375500815\n",
      "6 0.359025253961\n",
      "7 0.34932534806\n",
      "8 0.145450019362\n",
      "9 0.374132324051\n",
      "average loss =  0.273135116423\n"
     ]
    }
   ],
   "source": [
    "import numpy as np\n",
    "from keras.layers import BatchNormalization\n",
    "def get_model_2():\n",
    "    input1 = Input(shape=(30,), name='input_1')\n",
    "    scaled = BatchNormalization()(input1)\n",
    "    hidden1 = Dense(5, activation='relu',name='hidden1')(scaled)\n",
    "    hidden2 = Dense(10, activation='relu',name='hidden2')(hidden1)\n",
    "    output = Dense(1,activation='sigmoid')(hidden2)\n",
    "    model = Model(inputs=input1, outputs=output)\n",
    "    model.compile(loss='binary_crossentropy', optimizer='adam',\n",
    "                  metrics=['accuracy'])    \n",
    "    return model\n",
    "\n",
    "n = 10\n",
    "loss = np.zeros(n)\n",
    "X_train, X_test, y_train, y_test = train_test_split(data.data,data.target,\n",
    "                                                    test_size=0.2)\n",
    "for i in np.arange(n):\n",
    "    model = get_model_2()\n",
    "    hist = model.fit(X_train, y_train, epochs=10, batch_size=32,verbose=0)\n",
    "    loss[i] = min(hist.history[\"loss\"])\n",
    "    print(i,loss[i])\n",
    "print('average loss = ',np.mean(loss))\n",
    "\n"
   ]
  },
  {
   "cell_type": "markdown",
   "metadata": {},
   "source": [
    "# Callbacks\n",
    "\n",
    "Keras has a set of functions that can be used to get a view on internal states and statistics of the model during training. They are called callbacks and `History` mentioned above is one of them.\n",
    "\n",
    "A list of callbacks can be passed (as the keyword argument `callbacks`) to the  `fit()` method of the Sequential or Model classes. The relevant methods of the callbacks will then be called at each stage of the training.  \n",
    "\n",
    "Here are some usefull callbacks that will be used below.\n",
    "\n",
    "- `CSVLogger`  \n",
    "    `keras.callbacks.CSVLogger(filename, separator=',', append=False)`  \n",
    "    Callback that streams epoch results to a csv file.  \n",
    "\n",
    "\n",
    "- `ModelCheckpoint`  \n",
    "    `keras.callbacks.ModelCheckpoint(filepath, monitor='val_loss', verbose=0, save_best_only=False, save_weights_only=False, mode='auto', period=1)`  \n",
    "    By default save the model to the file `filepath` after every epoch. If `save_best_only=True` only the latest best model is saved according to the quantity monitored. So one can restart trainning from the last saved state in case of failure. This is important when training deep learning models, which can often be a time-consuming task.  \n",
    "\n",
    "Here is an example of how we can save the model and restore it later."
   ]
  },
  {
   "cell_type": "code",
   "execution_count": 29,
   "metadata": {},
   "outputs": [
    {
     "name": "stdout",
     "output_type": "stream",
     "text": [
      "\n",
      "Epoch 00001: saving model to weights.hdf5\n",
      "\n",
      "Epoch 00002: saving model to weights.hdf5\n",
      "\n",
      "Epoch 00003: saving model to weights.hdf5\n",
      "\n",
      "Epoch 00004: saving model to weights.hdf5\n",
      "\n",
      "Epoch 00005: saving model to weights.hdf5\n",
      "\n",
      "Epoch 00006: saving model to weights.hdf5\n",
      "\n",
      "Epoch 00007: saving model to weights.hdf5\n",
      "\n",
      "Epoch 00008: saving model to weights.hdf5\n",
      "\n",
      "Epoch 00009: saving model to weights.hdf5\n",
      "\n",
      "Epoch 00010: saving model to weights.hdf5\n",
      "evaluation results of trained model\n",
      "['loss', 'acc']\n",
      "[0.3836186240639603, 0.89473683792248104]\n",
      "evaluation results of reinitialized model\n",
      "[1.2871111840532536, 0.1666666667973786]\n",
      "evaluation results of model with weights loaded from file\n",
      "[0.3836186240639603, 0.89473683792248104]\n"
     ]
    }
   ],
   "source": [
    "from keras.callbacks import ModelCheckpoint\n",
    "\n",
    "#\n",
    "scaler = StandardScaler()\n",
    "X_train = scaler.fit_transform(X_train)\n",
    "X_test = scaler.transform(X_test)\n",
    "\n",
    "# initialize model\n",
    "model = get_model_simple()\n",
    "# saves the model weights after each epoch\n",
    "checkpointer = ModelCheckpoint('weights.hdf5', verbose=1)\n",
    "model.fit(X_train, y_train, epochs=10, verbose=0, callbacks=[checkpointer])\n",
    "print('evaluation results of trained model')\n",
    "print(model.metrics_names)\n",
    "print(model.evaluate(X_test, y_test,verbose=0))\n",
    "# reinitialize model\n",
    "model = get_model_simple()\n",
    "print('evaluation results of reinitialized model')\n",
    "print(model.evaluate(X_test, y_test,verbose=0))\n",
    "model.load_weights('weights.hdf5')\n",
    "print('evaluation results of model with weights loaded from file')\n",
    "print(model.evaluate(X_test, y_test,verbose=0))"
   ]
  },
  {
   "cell_type": "markdown",
   "metadata": {},
   "source": [
    "Note that by loading weights from file we restore saved model.\n",
    "\n",
    "- `EarlyStopping`  \n",
    "    `keras.callbacks.EarlyStopping(monitor='val_loss', min_delta=0, patience=0, verbose=0, mode='auto')`  \n",
    "    Stop training when a monitored quantity has stopped improving. Using it we can set large number of epochs but the process will be stopped if validation loss is not improved during `patience` epochs.  \n",
    "\n",
    "In the example below define `EarlyStopping` callback with `patience=5` and validation loss (`val_loss`) as monitored quantity. \n",
    "\n",
    "Validation loss can be calculated only if `validation_data` parameter in the `fit` method call is defined. <br>\n",
    "In this case `validation_data=(X_test, y_test)`. <br>\n",
    "Allow 200 epochs to train the model."
   ]
  },
  {
   "cell_type": "code",
   "execution_count": 30,
   "metadata": {},
   "outputs": [
    {
     "name": "stdout",
     "output_type": "stream",
     "text": [
      "Train on 455 samples, validate on 114 samples\n",
      "Epoch 1/200\n",
      "455/455 [==============================] - 1s 2ms/step - loss: 0.7036 - acc: 0.6154 - val_loss: 0.6850 - val_acc: 0.6930\n",
      "Epoch 2/200\n",
      "455/455 [==============================] - 0s 187us/step - loss: 0.6475 - acc: 0.6989 - val_loss: 0.6470 - val_acc: 0.7456\n",
      "Epoch 3/200\n",
      "455/455 [==============================] - 0s 186us/step - loss: 0.5991 - acc: 0.7626 - val_loss: 0.6127 - val_acc: 0.7632\n",
      "Epoch 4/200\n",
      "455/455 [==============================] - 0s 177us/step - loss: 0.5563 - acc: 0.8044 - val_loss: 0.5813 - val_acc: 0.7807\n",
      "Epoch 5/200\n",
      "455/455 [==============================] - 0s 287us/step - loss: 0.5185 - acc: 0.8418 - val_loss: 0.5536 - val_acc: 0.8070\n",
      "Epoch 6/200\n",
      "455/455 [==============================] - 0s 195us/step - loss: 0.4860 - acc: 0.8571 - val_loss: 0.5275 - val_acc: 0.8070\n",
      "Epoch 7/200\n",
      "455/455 [==============================] - 0s 146us/step - loss: 0.4569 - acc: 0.8725 - val_loss: 0.5023 - val_acc: 0.8246\n",
      "Epoch 8/200\n",
      "455/455 [==============================] - 0s 214us/step - loss: 0.4296 - acc: 0.8879 - val_loss: 0.4770 - val_acc: 0.8421\n",
      "Epoch 9/200\n",
      "455/455 [==============================] - 0s 307us/step - loss: 0.4030 - acc: 0.8989 - val_loss: 0.4534 - val_acc: 0.8421\n",
      "Epoch 10/200\n",
      "455/455 [==============================] - 0s 354us/step - loss: 0.3784 - acc: 0.9121 - val_loss: 0.4300 - val_acc: 0.8421\n",
      "Epoch 11/200\n",
      "455/455 [==============================] - 0s 345us/step - loss: 0.3556 - acc: 0.9165 - val_loss: 0.4073 - val_acc: 0.8772\n",
      "Epoch 12/200\n",
      "455/455 [==============================] - 0s 204us/step - loss: 0.3332 - acc: 0.9275 - val_loss: 0.3856 - val_acc: 0.8772\n",
      "Epoch 13/200\n",
      "455/455 [==============================] - 0s 381us/step - loss: 0.3132 - acc: 0.9275 - val_loss: 0.3665 - val_acc: 0.8860\n",
      "Epoch 14/200\n",
      "455/455 [==============================] - 0s 429us/step - loss: 0.2957 - acc: 0.9319 - val_loss: 0.3488 - val_acc: 0.9035\n",
      "Epoch 15/200\n",
      "455/455 [==============================] - 0s 216us/step - loss: 0.2792 - acc: 0.9385 - val_loss: 0.3329 - val_acc: 0.9035\n",
      "Epoch 16/200\n",
      "455/455 [==============================] - 0s 182us/step - loss: 0.2648 - acc: 0.9385 - val_loss: 0.3172 - val_acc: 0.9123\n",
      "Epoch 17/200\n",
      "455/455 [==============================] - 0s 220us/step - loss: 0.2510 - acc: 0.9385 - val_loss: 0.3041 - val_acc: 0.9123\n",
      "Epoch 18/200\n",
      "455/455 [==============================] - 0s 325us/step - loss: 0.2390 - acc: 0.9385 - val_loss: 0.2918 - val_acc: 0.9211\n",
      "Epoch 19/200\n",
      "455/455 [==============================] - 0s 151us/step - loss: 0.2275 - acc: 0.9407 - val_loss: 0.2793 - val_acc: 0.9211\n",
      "Epoch 20/200\n",
      "455/455 [==============================] - 0s 189us/step - loss: 0.2164 - acc: 0.9407 - val_loss: 0.2677 - val_acc: 0.9211\n",
      "Epoch 21/200\n",
      "455/455 [==============================] - 0s 220us/step - loss: 0.2063 - acc: 0.9451 - val_loss: 0.2566 - val_acc: 0.9211\n",
      "Epoch 22/200\n",
      "455/455 [==============================] - 0s 137us/step - loss: 0.1970 - acc: 0.9473 - val_loss: 0.2459 - val_acc: 0.9298\n",
      "Epoch 23/200\n",
      "455/455 [==============================] - 0s 248us/step - loss: 0.1879 - acc: 0.9495 - val_loss: 0.2358 - val_acc: 0.9386\n",
      "Epoch 24/200\n",
      "455/455 [==============================] - 0s 286us/step - loss: 0.1795 - acc: 0.9516 - val_loss: 0.2259 - val_acc: 0.9386\n",
      "Epoch 25/200\n",
      "455/455 [==============================] - 0s 198us/step - loss: 0.1719 - acc: 0.9538 - val_loss: 0.2156 - val_acc: 0.9386\n",
      "Epoch 26/200\n",
      "455/455 [==============================] - 0s 170us/step - loss: 0.1649 - acc: 0.9560 - val_loss: 0.2070 - val_acc: 0.9386\n",
      "Epoch 27/200\n",
      "455/455 [==============================] - 0s 364us/step - loss: 0.1585 - acc: 0.9582 - val_loss: 0.1997 - val_acc: 0.9386\n",
      "Epoch 28/200\n",
      "455/455 [==============================] - 0s 301us/step - loss: 0.1530 - acc: 0.9604 - val_loss: 0.1930 - val_acc: 0.9386\n",
      "Epoch 29/200\n",
      "455/455 [==============================] - 0s 326us/step - loss: 0.1479 - acc: 0.9604 - val_loss: 0.1864 - val_acc: 0.9474\n",
      "Epoch 30/200\n",
      "455/455 [==============================] - 0s 237us/step - loss: 0.1429 - acc: 0.9626 - val_loss: 0.1802 - val_acc: 0.9561\n",
      "Epoch 31/200\n",
      "455/455 [==============================] - 0s 165us/step - loss: 0.1384 - acc: 0.9648 - val_loss: 0.1742 - val_acc: 0.9649\n",
      "Epoch 32/200\n",
      "455/455 [==============================] - 0s 172us/step - loss: 0.1341 - acc: 0.9648 - val_loss: 0.1690 - val_acc: 0.9737\n",
      "Epoch 33/200\n",
      "455/455 [==============================] - 0s 229us/step - loss: 0.1302 - acc: 0.9648 - val_loss: 0.1640 - val_acc: 0.9737\n",
      "Epoch 34/200\n",
      "455/455 [==============================] - 0s 142us/step - loss: 0.1267 - acc: 0.9692 - val_loss: 0.1596 - val_acc: 0.9737\n",
      "Epoch 35/200\n",
      "455/455 [==============================] - 0s 212us/step - loss: 0.1233 - acc: 0.9692 - val_loss: 0.1552 - val_acc: 0.9737\n",
      "Epoch 36/200\n",
      "455/455 [==============================] - 0s 185us/step - loss: 0.1201 - acc: 0.9692 - val_loss: 0.1512 - val_acc: 0.9737\n",
      "Epoch 37/200\n",
      "455/455 [==============================] - 0s 243us/step - loss: 0.1170 - acc: 0.9714 - val_loss: 0.1475 - val_acc: 0.9737\n",
      "Epoch 38/200\n",
      "455/455 [==============================] - 0s 125us/step - loss: 0.1138 - acc: 0.9736 - val_loss: 0.1435 - val_acc: 0.9737\n",
      "Epoch 39/200\n",
      "455/455 [==============================] - 0s 154us/step - loss: 0.1109 - acc: 0.9736 - val_loss: 0.1400 - val_acc: 0.9737\n",
      "Epoch 40/200\n",
      "455/455 [==============================] - 0s 173us/step - loss: 0.1083 - acc: 0.9736 - val_loss: 0.1358 - val_acc: 0.9737\n",
      "Epoch 41/200\n",
      "455/455 [==============================] - 0s 128us/step - loss: 0.1056 - acc: 0.9758 - val_loss: 0.1330 - val_acc: 0.9737\n",
      "Epoch 42/200\n",
      "455/455 [==============================] - 0s 139us/step - loss: 0.1034 - acc: 0.9758 - val_loss: 0.1307 - val_acc: 0.9737\n",
      "Epoch 43/200\n",
      "455/455 [==============================] - 0s 204us/step - loss: 0.1013 - acc: 0.9758 - val_loss: 0.1281 - val_acc: 0.9737\n",
      "Epoch 44/200\n",
      "455/455 [==============================] - 0s 214us/step - loss: 0.0995 - acc: 0.9758 - val_loss: 0.1256 - val_acc: 0.9737\n",
      "Epoch 45/200\n",
      "455/455 [==============================] - 0s 251us/step - loss: 0.0976 - acc: 0.9758 - val_loss: 0.1234 - val_acc: 0.9737\n",
      "Epoch 46/200\n",
      "455/455 [==============================] - 0s 248us/step - loss: 0.0959 - acc: 0.9758 - val_loss: 0.1215 - val_acc: 0.9737\n",
      "Epoch 47/200\n",
      "455/455 [==============================] - 0s 245us/step - loss: 0.0943 - acc: 0.9758 - val_loss: 0.1198 - val_acc: 0.9737\n",
      "Epoch 48/200\n",
      "455/455 [==============================] - 0s 258us/step - loss: 0.0927 - acc: 0.9758 - val_loss: 0.1180 - val_acc: 0.9737\n",
      "Epoch 49/200\n",
      "455/455 [==============================] - 0s 242us/step - loss: 0.0913 - acc: 0.9758 - val_loss: 0.1160 - val_acc: 0.9737\n",
      "Epoch 50/200\n",
      "455/455 [==============================] - 0s 378us/step - loss: 0.0899 - acc: 0.9758 - val_loss: 0.1146 - val_acc: 0.9737\n",
      "Epoch 51/200\n",
      "455/455 [==============================] - 0s 266us/step - loss: 0.0885 - acc: 0.9758 - val_loss: 0.1131 - val_acc: 0.9737\n",
      "Epoch 52/200\n",
      "455/455 [==============================] - 0s 177us/step - loss: 0.0872 - acc: 0.9758 - val_loss: 0.1120 - val_acc: 0.9737\n",
      "Epoch 53/200\n",
      "455/455 [==============================] - 0s 191us/step - loss: 0.0860 - acc: 0.9758 - val_loss: 0.1108 - val_acc: 0.9737\n",
      "Epoch 54/200\n",
      "455/455 [==============================] - 0s 242us/step - loss: 0.0849 - acc: 0.9758 - val_loss: 0.1099 - val_acc: 0.9737\n",
      "Epoch 55/200\n",
      "455/455 [==============================] - 0s 169us/step - loss: 0.0837 - acc: 0.9758 - val_loss: 0.1083 - val_acc: 0.9737\n",
      "Epoch 56/200\n",
      "455/455 [==============================] - 0s 258us/step - loss: 0.0825 - acc: 0.9780 - val_loss: 0.1076 - val_acc: 0.9737\n",
      "Epoch 57/200\n",
      "455/455 [==============================] - 0s 252us/step - loss: 0.0815 - acc: 0.9780 - val_loss: 0.1063 - val_acc: 0.9737\n",
      "Epoch 58/200\n",
      "455/455 [==============================] - 0s 183us/step - loss: 0.0805 - acc: 0.9780 - val_loss: 0.1060 - val_acc: 0.9737\n",
      "Epoch 59/200\n",
      "455/455 [==============================] - 0s 273us/step - loss: 0.0794 - acc: 0.9780 - val_loss: 0.1051 - val_acc: 0.9737\n",
      "Epoch 60/200\n",
      "455/455 [==============================] - 0s 210us/step - loss: 0.0784 - acc: 0.9780 - val_loss: 0.1036 - val_acc: 0.9737\n"
     ]
    },
    {
     "name": "stdout",
     "output_type": "stream",
     "text": [
      "Epoch 61/200\n",
      "455/455 [==============================] - 0s 260us/step - loss: 0.0774 - acc: 0.9802 - val_loss: 0.1025 - val_acc: 0.9737\n",
      "Epoch 62/200\n",
      "455/455 [==============================] - 0s 267us/step - loss: 0.0764 - acc: 0.9802 - val_loss: 0.1012 - val_acc: 0.9737\n",
      "Epoch 63/200\n",
      "455/455 [==============================] - 0s 378us/step - loss: 0.0756 - acc: 0.9802 - val_loss: 0.1003 - val_acc: 0.9737\n",
      "Epoch 64/200\n",
      "455/455 [==============================] - 0s 317us/step - loss: 0.0748 - acc: 0.9802 - val_loss: 0.0996 - val_acc: 0.9737\n",
      "Epoch 65/200\n",
      "455/455 [==============================] - 0s 298us/step - loss: 0.0738 - acc: 0.9802 - val_loss: 0.0986 - val_acc: 0.9737\n",
      "Epoch 66/200\n",
      "455/455 [==============================] - 0s 325us/step - loss: 0.0730 - acc: 0.9802 - val_loss: 0.0977 - val_acc: 0.9737\n",
      "Epoch 67/200\n",
      "455/455 [==============================] - 0s 374us/step - loss: 0.0722 - acc: 0.9802 - val_loss: 0.0969 - val_acc: 0.9737\n",
      "Epoch 68/200\n",
      "455/455 [==============================] - 0s 184us/step - loss: 0.0715 - acc: 0.9824 - val_loss: 0.0961 - val_acc: 0.9737\n",
      "Epoch 69/200\n",
      "455/455 [==============================] - 0s 135us/step - loss: 0.0707 - acc: 0.9824 - val_loss: 0.0956 - val_acc: 0.9737\n",
      "Epoch 70/200\n",
      "455/455 [==============================] - 0s 243us/step - loss: 0.0699 - acc: 0.9824 - val_loss: 0.0944 - val_acc: 0.9737\n",
      "Epoch 71/200\n",
      "455/455 [==============================] - 0s 456us/step - loss: 0.0690 - acc: 0.9824 - val_loss: 0.0940 - val_acc: 0.9737\n",
      "Epoch 72/200\n",
      "455/455 [==============================] - 0s 267us/step - loss: 0.0684 - acc: 0.9824 - val_loss: 0.0931 - val_acc: 0.9737\n",
      "Epoch 73/200\n",
      "455/455 [==============================] - 0s 152us/step - loss: 0.0675 - acc: 0.9824 - val_loss: 0.0926 - val_acc: 0.9737\n",
      "Epoch 74/200\n",
      "455/455 [==============================] - 0s 198us/step - loss: 0.0668 - acc: 0.9824 - val_loss: 0.0915 - val_acc: 0.9737\n",
      "Epoch 75/200\n",
      "455/455 [==============================] - 0s 171us/step - loss: 0.0660 - acc: 0.9824 - val_loss: 0.0909 - val_acc: 0.9737\n",
      "Epoch 76/200\n",
      "455/455 [==============================] - 0s 107us/step - loss: 0.0654 - acc: 0.9824 - val_loss: 0.0902 - val_acc: 0.9737\n",
      "Epoch 77/200\n",
      "455/455 [==============================] - 0s 144us/step - loss: 0.0647 - acc: 0.9824 - val_loss: 0.0896 - val_acc: 0.9737\n",
      "Epoch 78/200\n",
      "455/455 [==============================] - 0s 188us/step - loss: 0.0640 - acc: 0.9824 - val_loss: 0.0896 - val_acc: 0.9737\n",
      "Epoch 79/200\n",
      "455/455 [==============================] - 0s 172us/step - loss: 0.0635 - acc: 0.9824 - val_loss: 0.0894 - val_acc: 0.9737\n",
      "Epoch 80/200\n",
      "455/455 [==============================] - 0s 169us/step - loss: 0.0629 - acc: 0.9824 - val_loss: 0.0886 - val_acc: 0.9737\n",
      "Epoch 81/200\n",
      "455/455 [==============================] - 0s 187us/step - loss: 0.0623 - acc: 0.9824 - val_loss: 0.0882 - val_acc: 0.9737\n",
      "Epoch 82/200\n",
      "455/455 [==============================] - 0s 143us/step - loss: 0.0618 - acc: 0.9824 - val_loss: 0.0879 - val_acc: 0.9737\n",
      "Epoch 83/200\n",
      "455/455 [==============================] - 0s 156us/step - loss: 0.0613 - acc: 0.9824 - val_loss: 0.0879 - val_acc: 0.9737\n",
      "Epoch 84/200\n",
      "455/455 [==============================] - 0s 106us/step - loss: 0.0609 - acc: 0.9824 - val_loss: 0.0872 - val_acc: 0.9737\n",
      "Epoch 85/200\n",
      "455/455 [==============================] - 0s 133us/step - loss: 0.0604 - acc: 0.9846 - val_loss: 0.0867 - val_acc: 0.9737\n",
      "Epoch 86/200\n",
      "455/455 [==============================] - 0s 198us/step - loss: 0.0599 - acc: 0.9846 - val_loss: 0.0865 - val_acc: 0.9737\n",
      "Epoch 87/200\n",
      "455/455 [==============================] - 0s 181us/step - loss: 0.0594 - acc: 0.9846 - val_loss: 0.0862 - val_acc: 0.9737\n",
      "Epoch 88/200\n",
      "455/455 [==============================] - 0s 248us/step - loss: 0.0590 - acc: 0.9846 - val_loss: 0.0859 - val_acc: 0.9737\n",
      "Epoch 89/200\n",
      "455/455 [==============================] - 0s 133us/step - loss: 0.0586 - acc: 0.9846 - val_loss: 0.0857 - val_acc: 0.9737\n",
      "Epoch 90/200\n",
      "455/455 [==============================] - 0s 139us/step - loss: 0.0582 - acc: 0.9846 - val_loss: 0.0852 - val_acc: 0.9737\n",
      "Epoch 91/200\n",
      "455/455 [==============================] - 0s 185us/step - loss: 0.0578 - acc: 0.9868 - val_loss: 0.0853 - val_acc: 0.9737\n",
      "Epoch 92/200\n",
      "455/455 [==============================] - 0s 209us/step - loss: 0.0573 - acc: 0.9868 - val_loss: 0.0853 - val_acc: 0.9737\n",
      "Epoch 93/200\n",
      "455/455 [==============================] - 0s 376us/step - loss: 0.0569 - acc: 0.9846 - val_loss: 0.0852 - val_acc: 0.9737\n",
      "Epoch 94/200\n",
      "455/455 [==============================] - 0s 162us/step - loss: 0.0567 - acc: 0.9846 - val_loss: 0.0842 - val_acc: 0.9737\n",
      "Epoch 95/200\n",
      "455/455 [==============================] - 0s 131us/step - loss: 0.0562 - acc: 0.9846 - val_loss: 0.0839 - val_acc: 0.9737\n",
      "Epoch 96/200\n",
      "455/455 [==============================] - 0s 157us/step - loss: 0.0560 - acc: 0.9846 - val_loss: 0.0845 - val_acc: 0.9737\n",
      "Epoch 97/200\n",
      "455/455 [==============================] - 0s 167us/step - loss: 0.0556 - acc: 0.9846 - val_loss: 0.0844 - val_acc: 0.9737\n",
      "Epoch 98/200\n",
      "455/455 [==============================] - 0s 225us/step - loss: 0.0553 - acc: 0.9846 - val_loss: 0.0842 - val_acc: 0.9737\n",
      "Epoch 99/200\n",
      "455/455 [==============================] - 0s 231us/step - loss: 0.0550 - acc: 0.9868 - val_loss: 0.0851 - val_acc: 0.9737\n",
      "Epoch 100/200\n",
      "455/455 [==============================] - 0s 209us/step - loss: 0.0547 - acc: 0.9846 - val_loss: 0.0837 - val_acc: 0.9737\n",
      "Epoch 101/200\n",
      "455/455 [==============================] - 0s 100us/step - loss: 0.0545 - acc: 0.9846 - val_loss: 0.0829 - val_acc: 0.9737\n",
      "Epoch 102/200\n",
      "455/455 [==============================] - 0s 120us/step - loss: 0.0542 - acc: 0.9846 - val_loss: 0.0829 - val_acc: 0.9737\n",
      "Epoch 103/200\n",
      "455/455 [==============================] - 0s 203us/step - loss: 0.0538 - acc: 0.9846 - val_loss: 0.0825 - val_acc: 0.9737\n",
      "Epoch 104/200\n",
      "455/455 [==============================] - 0s 209us/step - loss: 0.0536 - acc: 0.9846 - val_loss: 0.0822 - val_acc: 0.9737\n",
      "Epoch 105/200\n",
      "455/455 [==============================] - 0s 191us/step - loss: 0.0533 - acc: 0.9846 - val_loss: 0.0820 - val_acc: 0.9737\n",
      "Epoch 106/200\n",
      "455/455 [==============================] - 0s 145us/step - loss: 0.0531 - acc: 0.9846 - val_loss: 0.0827 - val_acc: 0.9737\n",
      "Epoch 107/200\n",
      "455/455 [==============================] - 0s 127us/step - loss: 0.0528 - acc: 0.9846 - val_loss: 0.0823 - val_acc: 0.9737\n",
      "Epoch 108/200\n",
      "455/455 [==============================] - 0s 274us/step - loss: 0.0525 - acc: 0.9846 - val_loss: 0.0823 - val_acc: 0.9737\n",
      "Epoch 109/200\n",
      "455/455 [==============================] - 0s 279us/step - loss: 0.0522 - acc: 0.9846 - val_loss: 0.0820 - val_acc: 0.9737\n",
      "Epoch 110/200\n",
      "455/455 [==============================] - 0s 277us/step - loss: 0.0520 - acc: 0.9846 - val_loss: 0.0822 - val_acc: 0.9737\n"
     ]
    },
    {
     "data": {
      "text/plain": [
       "<keras.callbacks.History at 0x7f736cc17400>"
      ]
     },
     "execution_count": 30,
     "metadata": {},
     "output_type": "execute_result"
    }
   ],
   "source": [
    "from keras.callbacks import EarlyStopping\n",
    "X_train, X_test, y_train, y_test = train_test_split(scaler.transform(data.data), data.target,\n",
    "                                                    test_size=0.2, random_state=1)\n",
    "# initialize model\n",
    "model = get_model_simple()\n",
    "early_stopping = EarlyStopping(monitor=\"val_loss\", patience=5)\n",
    "model.fit(X_train, y_train, validation_data=(X_test, y_test), epochs=200,\n",
    "          callbacks=[early_stopping], verbose=1)\n"
   ]
  },
  {
   "cell_type": "markdown",
   "metadata": {},
   "source": [
    "EarlyStopping callback terminated process earlier, but the model now is not the best one (according to `val_loss` criterion). The best model was achieved (`patience`+1) epochs before the end.  "
   ]
  },
  {
   "cell_type": "markdown",
   "metadata": {},
   "source": [
    "# Regularization\n",
    "\n",
    "One of the major issues with artificial neural networks is that the models are quite complicated. For example, let us consider a neural network that is pulling data from an image from the MNIST database (28 by 28 pixels), feeds into two hidden layers with 30 neurons, and finally reaches a soft-max layer of 10 neurons. The total number of parameters in the network is nearly 25,000. Aparently the model with so many parameters is prone to overfititng.\n",
    "\n",
    "Keras has a number of layers that can help prevent overfitting.  \n",
    "\n",
    "### Dropout\n",
    "\n",
    "Dropout is a regularization technique for neural network models proposed by Srivastava, et al. in their 2014 paper [Dropout: A Simple Way to Prevent Neural Networks from Overfitting](http://jmlr.org/papers/volume15/srivastava14a/srivastava14a.pdf).\n",
    "\n",
    "Dropout is a technique where randomly selected neurons are ignored during training. <br>\n",
    "They are “dropped-out” randomly. This means that their contribution to the activation of downstream neurons is temporally removed on the forward pass and any weight updates are not applied to the neuron on the backward pass.\n",
    "\n",
    "Dropout layer can be created as follows"
   ]
  },
  {
   "cell_type": "code",
   "execution_count": 31,
   "metadata": {
    "scrolled": true
   },
   "outputs": [],
   "source": [
    "from keras.layers import Dropout\n",
    "dropout_layer = Dropout(rate=0.1)"
   ]
  },
  {
   "cell_type": "markdown",
   "metadata": {},
   "source": [
    "where `rate` is float number between 0 and 1 meaning fraction of the input units to drop.\n",
    "\n",
    "Keras provides a number of Noise layers that are also useful to mitigate overfitting.  \n",
    "\n",
    "### GaussianNoise\n",
    "\n",
    "Layer `GaussianNoise(stddev)` applies additive zero-centered Gaussian noise with standard deviation `stdev`. <br>\n",
    "It could be treated as a form of random data augmentation. Since it is a regularization layer, it is only active at training time.\n",
    "\n",
    "### GaussianDropout\n",
    "\n",
    "Layer `GaussianDropout(rate)` applies multiplicative 1-centered Gaussian noise with standard deviation \n",
    "$$\\sqrt{\\frac{rate} { (1 - rate)}}.$$ \n",
    "It is only active at training time.\n",
    "\n",
    "The way of choosing appropriate dropout rate and some other parameters will be shown in TuningNetworks notebook."
   ]
  }
 ],
 "metadata": {
  "anaconda-cloud": {},
  "kernelspec": {
   "display_name": "Python 3",
   "language": "python",
   "name": "python3"
  },
  "language_info": {
   "codemirror_mode": {
    "name": "ipython",
    "version": 3
   },
   "file_extension": ".py",
   "mimetype": "text/x-python",
   "name": "python",
   "nbconvert_exporter": "python",
   "pygments_lexer": "ipython3",
   "version": "3.7.6"
  }
 },
 "nbformat": 4,
 "nbformat_minor": 1
}
