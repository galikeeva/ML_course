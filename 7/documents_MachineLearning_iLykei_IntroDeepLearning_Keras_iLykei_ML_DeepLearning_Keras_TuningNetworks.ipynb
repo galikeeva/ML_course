{
 "cells": [
  {
   "cell_type": "markdown",
   "metadata": {
    "collapsed": true,
    "nbpresent": {
     "id": "f765eb10-54e6-4a14-912b-e5117e8f433d"
    }
   },
   "source": [
    "# iLykei Lecture Series\n",
    "\n",
    "# Machine Learning\n",
    "\n",
    "# Introduction to Deep Learning\n",
    "\n",
    "# Tuning Nets with Keras\n",
    "\n",
    "## Yuri Balasanov, Leonid Nazarov, &copy; iLykei 2017-2018\n",
    "\n",
    "\n",
    "This notebook shows how to tune basic network parameters: number of epochs, dropout rate, learning rate, number of neurons in the layers, optimization algorithm.\n",
    "\n",
    "Import all necessary modules."
   ]
  },
  {
   "cell_type": "code",
   "execution_count": 2,
   "metadata": {
    "nbpresent": {
     "id": "efdff163-e13a-4bed-ae11-c66a9f45047d"
    },
    "scrolled": false
   },
   "outputs": [
    {
     "name": "stderr",
     "output_type": "stream",
     "text": [
      "Using TensorFlow backend.\n"
     ]
    }
   ],
   "source": [
    "%matplotlib inline\n",
    "import pandas as pd\n",
    "import numpy as np\n",
    "from matplotlib import pyplot as plt\n",
    "from sklearn.preprocessing import LabelEncoder\n",
    "from sklearn.model_selection import GridSearchCV\n",
    "from keras.models import Sequential\n",
    "from keras.layers import Dense, Dropout, Activation, Flatten\n",
    "from keras.utils import to_categorical, plot_model\n",
    "from keras.optimizers import Adam,SGD,Adagrad\n",
    "from keras.utils.vis_utils import model_to_dot\n",
    "from keras.wrappers.scikit_learn import KerasClassifier\n",
    "from IPython.display import SVG\n"
   ]
  },
  {
   "cell_type": "markdown",
   "metadata": {
    "raw_mimetype": "text/markdown"
   },
   "source": [
    "# Data (Kaggle OTTO  Group challenge)\n",
    "\n",
    "Tuning methods will be demonstrated on the train dataset from Kaggle [Otto Group Product Classification Challenge](https://www.kaggle.com/c/otto-group-product-classification-challenge).  \n",
    "Read the data, remove 'id' column and shuffle rows since they are originally oredered by class. "
   ]
  },
  {
   "cell_type": "code",
   "execution_count": 3,
   "metadata": {},
   "outputs": [
    {
     "ename": "FileNotFoundError",
     "evalue": "[Errno 2] File KaggleOtto_train.csv does not exist: 'KaggleOtto_train.csv'",
     "output_type": "error",
     "traceback": [
      "\u001b[1;31m---------------------------------------------------------------------------\u001b[0m",
      "\u001b[1;31mFileNotFoundError\u001b[0m                         Traceback (most recent call last)",
      "\u001b[1;32m<ipython-input-3-336f9f07614b>\u001b[0m in \u001b[0;36m<module>\u001b[1;34m\u001b[0m\n\u001b[1;32m----> 1\u001b[1;33m \u001b[0mX\u001b[0m \u001b[1;33m=\u001b[0m \u001b[0mpd\u001b[0m\u001b[1;33m.\u001b[0m\u001b[0mread_csv\u001b[0m\u001b[1;33m(\u001b[0m\u001b[1;34m\"KaggleOtto_train.csv\"\u001b[0m\u001b[1;33m)\u001b[0m\u001b[1;33m\u001b[0m\u001b[1;33m\u001b[0m\u001b[0m\n\u001b[0m\u001b[0;32m      2\u001b[0m \u001b[0mX\u001b[0m\u001b[1;33m.\u001b[0m\u001b[0mdrop\u001b[0m\u001b[1;33m(\u001b[0m\u001b[1;34m'id'\u001b[0m\u001b[1;33m,\u001b[0m \u001b[0maxis\u001b[0m\u001b[1;33m=\u001b[0m\u001b[1;36m1\u001b[0m\u001b[1;33m,\u001b[0m \u001b[0minplace\u001b[0m\u001b[1;33m=\u001b[0m\u001b[1;32mTrue\u001b[0m\u001b[1;33m)\u001b[0m\u001b[1;33m\u001b[0m\u001b[1;33m\u001b[0m\u001b[0m\n\u001b[0;32m      3\u001b[0m \u001b[0mprint\u001b[0m\u001b[1;33m(\u001b[0m\u001b[0mX\u001b[0m\u001b[1;33m.\u001b[0m\u001b[0mshape\u001b[0m\u001b[1;33m)\u001b[0m\u001b[1;33m\u001b[0m\u001b[1;33m\u001b[0m\u001b[0m\n\u001b[0;32m      4\u001b[0m \u001b[0mnp\u001b[0m\u001b[1;33m.\u001b[0m\u001b[0mrandom\u001b[0m\u001b[1;33m.\u001b[0m\u001b[0mseed\u001b[0m\u001b[1;33m(\u001b[0m\u001b[1;36m1\u001b[0m\u001b[1;33m)\u001b[0m\u001b[1;33m\u001b[0m\u001b[1;33m\u001b[0m\u001b[0m\n\u001b[0;32m      5\u001b[0m \u001b[1;31m# Shuffle data. It is originally oredered by class\u001b[0m\u001b[1;33m\u001b[0m\u001b[1;33m\u001b[0m\u001b[1;33m\u001b[0m\u001b[0m\n",
      "\u001b[1;32m~\\anaconda3\\lib\\site-packages\\pandas\\io\\parsers.py\u001b[0m in \u001b[0;36mparser_f\u001b[1;34m(filepath_or_buffer, sep, delimiter, header, names, index_col, usecols, squeeze, prefix, mangle_dupe_cols, dtype, engine, converters, true_values, false_values, skipinitialspace, skiprows, skipfooter, nrows, na_values, keep_default_na, na_filter, verbose, skip_blank_lines, parse_dates, infer_datetime_format, keep_date_col, date_parser, dayfirst, cache_dates, iterator, chunksize, compression, thousands, decimal, lineterminator, quotechar, quoting, doublequote, escapechar, comment, encoding, dialect, error_bad_lines, warn_bad_lines, delim_whitespace, low_memory, memory_map, float_precision)\u001b[0m\n\u001b[0;32m    674\u001b[0m         )\n\u001b[0;32m    675\u001b[0m \u001b[1;33m\u001b[0m\u001b[0m\n\u001b[1;32m--> 676\u001b[1;33m         \u001b[1;32mreturn\u001b[0m \u001b[0m_read\u001b[0m\u001b[1;33m(\u001b[0m\u001b[0mfilepath_or_buffer\u001b[0m\u001b[1;33m,\u001b[0m \u001b[0mkwds\u001b[0m\u001b[1;33m)\u001b[0m\u001b[1;33m\u001b[0m\u001b[1;33m\u001b[0m\u001b[0m\n\u001b[0m\u001b[0;32m    677\u001b[0m \u001b[1;33m\u001b[0m\u001b[0m\n\u001b[0;32m    678\u001b[0m     \u001b[0mparser_f\u001b[0m\u001b[1;33m.\u001b[0m\u001b[0m__name__\u001b[0m \u001b[1;33m=\u001b[0m \u001b[0mname\u001b[0m\u001b[1;33m\u001b[0m\u001b[1;33m\u001b[0m\u001b[0m\n",
      "\u001b[1;32m~\\anaconda3\\lib\\site-packages\\pandas\\io\\parsers.py\u001b[0m in \u001b[0;36m_read\u001b[1;34m(filepath_or_buffer, kwds)\u001b[0m\n\u001b[0;32m    446\u001b[0m \u001b[1;33m\u001b[0m\u001b[0m\n\u001b[0;32m    447\u001b[0m     \u001b[1;31m# Create the parser.\u001b[0m\u001b[1;33m\u001b[0m\u001b[1;33m\u001b[0m\u001b[1;33m\u001b[0m\u001b[0m\n\u001b[1;32m--> 448\u001b[1;33m     \u001b[0mparser\u001b[0m \u001b[1;33m=\u001b[0m \u001b[0mTextFileReader\u001b[0m\u001b[1;33m(\u001b[0m\u001b[0mfp_or_buf\u001b[0m\u001b[1;33m,\u001b[0m \u001b[1;33m**\u001b[0m\u001b[0mkwds\u001b[0m\u001b[1;33m)\u001b[0m\u001b[1;33m\u001b[0m\u001b[1;33m\u001b[0m\u001b[0m\n\u001b[0m\u001b[0;32m    449\u001b[0m \u001b[1;33m\u001b[0m\u001b[0m\n\u001b[0;32m    450\u001b[0m     \u001b[1;32mif\u001b[0m \u001b[0mchunksize\u001b[0m \u001b[1;32mor\u001b[0m \u001b[0miterator\u001b[0m\u001b[1;33m:\u001b[0m\u001b[1;33m\u001b[0m\u001b[1;33m\u001b[0m\u001b[0m\n",
      "\u001b[1;32m~\\anaconda3\\lib\\site-packages\\pandas\\io\\parsers.py\u001b[0m in \u001b[0;36m__init__\u001b[1;34m(self, f, engine, **kwds)\u001b[0m\n\u001b[0;32m    878\u001b[0m             \u001b[0mself\u001b[0m\u001b[1;33m.\u001b[0m\u001b[0moptions\u001b[0m\u001b[1;33m[\u001b[0m\u001b[1;34m\"has_index_names\"\u001b[0m\u001b[1;33m]\u001b[0m \u001b[1;33m=\u001b[0m \u001b[0mkwds\u001b[0m\u001b[1;33m[\u001b[0m\u001b[1;34m\"has_index_names\"\u001b[0m\u001b[1;33m]\u001b[0m\u001b[1;33m\u001b[0m\u001b[1;33m\u001b[0m\u001b[0m\n\u001b[0;32m    879\u001b[0m \u001b[1;33m\u001b[0m\u001b[0m\n\u001b[1;32m--> 880\u001b[1;33m         \u001b[0mself\u001b[0m\u001b[1;33m.\u001b[0m\u001b[0m_make_engine\u001b[0m\u001b[1;33m(\u001b[0m\u001b[0mself\u001b[0m\u001b[1;33m.\u001b[0m\u001b[0mengine\u001b[0m\u001b[1;33m)\u001b[0m\u001b[1;33m\u001b[0m\u001b[1;33m\u001b[0m\u001b[0m\n\u001b[0m\u001b[0;32m    881\u001b[0m \u001b[1;33m\u001b[0m\u001b[0m\n\u001b[0;32m    882\u001b[0m     \u001b[1;32mdef\u001b[0m \u001b[0mclose\u001b[0m\u001b[1;33m(\u001b[0m\u001b[0mself\u001b[0m\u001b[1;33m)\u001b[0m\u001b[1;33m:\u001b[0m\u001b[1;33m\u001b[0m\u001b[1;33m\u001b[0m\u001b[0m\n",
      "\u001b[1;32m~\\anaconda3\\lib\\site-packages\\pandas\\io\\parsers.py\u001b[0m in \u001b[0;36m_make_engine\u001b[1;34m(self, engine)\u001b[0m\n\u001b[0;32m   1112\u001b[0m     \u001b[1;32mdef\u001b[0m \u001b[0m_make_engine\u001b[0m\u001b[1;33m(\u001b[0m\u001b[0mself\u001b[0m\u001b[1;33m,\u001b[0m \u001b[0mengine\u001b[0m\u001b[1;33m=\u001b[0m\u001b[1;34m\"c\"\u001b[0m\u001b[1;33m)\u001b[0m\u001b[1;33m:\u001b[0m\u001b[1;33m\u001b[0m\u001b[1;33m\u001b[0m\u001b[0m\n\u001b[0;32m   1113\u001b[0m         \u001b[1;32mif\u001b[0m \u001b[0mengine\u001b[0m \u001b[1;33m==\u001b[0m \u001b[1;34m\"c\"\u001b[0m\u001b[1;33m:\u001b[0m\u001b[1;33m\u001b[0m\u001b[1;33m\u001b[0m\u001b[0m\n\u001b[1;32m-> 1114\u001b[1;33m             \u001b[0mself\u001b[0m\u001b[1;33m.\u001b[0m\u001b[0m_engine\u001b[0m \u001b[1;33m=\u001b[0m \u001b[0mCParserWrapper\u001b[0m\u001b[1;33m(\u001b[0m\u001b[0mself\u001b[0m\u001b[1;33m.\u001b[0m\u001b[0mf\u001b[0m\u001b[1;33m,\u001b[0m \u001b[1;33m**\u001b[0m\u001b[0mself\u001b[0m\u001b[1;33m.\u001b[0m\u001b[0moptions\u001b[0m\u001b[1;33m)\u001b[0m\u001b[1;33m\u001b[0m\u001b[1;33m\u001b[0m\u001b[0m\n\u001b[0m\u001b[0;32m   1115\u001b[0m         \u001b[1;32melse\u001b[0m\u001b[1;33m:\u001b[0m\u001b[1;33m\u001b[0m\u001b[1;33m\u001b[0m\u001b[0m\n\u001b[0;32m   1116\u001b[0m             \u001b[1;32mif\u001b[0m \u001b[0mengine\u001b[0m \u001b[1;33m==\u001b[0m \u001b[1;34m\"python\"\u001b[0m\u001b[1;33m:\u001b[0m\u001b[1;33m\u001b[0m\u001b[1;33m\u001b[0m\u001b[0m\n",
      "\u001b[1;32m~\\anaconda3\\lib\\site-packages\\pandas\\io\\parsers.py\u001b[0m in \u001b[0;36m__init__\u001b[1;34m(self, src, **kwds)\u001b[0m\n\u001b[0;32m   1889\u001b[0m         \u001b[0mkwds\u001b[0m\u001b[1;33m[\u001b[0m\u001b[1;34m\"usecols\"\u001b[0m\u001b[1;33m]\u001b[0m \u001b[1;33m=\u001b[0m \u001b[0mself\u001b[0m\u001b[1;33m.\u001b[0m\u001b[0musecols\u001b[0m\u001b[1;33m\u001b[0m\u001b[1;33m\u001b[0m\u001b[0m\n\u001b[0;32m   1890\u001b[0m \u001b[1;33m\u001b[0m\u001b[0m\n\u001b[1;32m-> 1891\u001b[1;33m         \u001b[0mself\u001b[0m\u001b[1;33m.\u001b[0m\u001b[0m_reader\u001b[0m \u001b[1;33m=\u001b[0m \u001b[0mparsers\u001b[0m\u001b[1;33m.\u001b[0m\u001b[0mTextReader\u001b[0m\u001b[1;33m(\u001b[0m\u001b[0msrc\u001b[0m\u001b[1;33m,\u001b[0m \u001b[1;33m**\u001b[0m\u001b[0mkwds\u001b[0m\u001b[1;33m)\u001b[0m\u001b[1;33m\u001b[0m\u001b[1;33m\u001b[0m\u001b[0m\n\u001b[0m\u001b[0;32m   1892\u001b[0m         \u001b[0mself\u001b[0m\u001b[1;33m.\u001b[0m\u001b[0munnamed_cols\u001b[0m \u001b[1;33m=\u001b[0m \u001b[0mself\u001b[0m\u001b[1;33m.\u001b[0m\u001b[0m_reader\u001b[0m\u001b[1;33m.\u001b[0m\u001b[0munnamed_cols\u001b[0m\u001b[1;33m\u001b[0m\u001b[1;33m\u001b[0m\u001b[0m\n\u001b[0;32m   1893\u001b[0m \u001b[1;33m\u001b[0m\u001b[0m\n",
      "\u001b[1;32mpandas\\_libs\\parsers.pyx\u001b[0m in \u001b[0;36mpandas._libs.parsers.TextReader.__cinit__\u001b[1;34m()\u001b[0m\n",
      "\u001b[1;32mpandas\\_libs\\parsers.pyx\u001b[0m in \u001b[0;36mpandas._libs.parsers.TextReader._setup_parser_source\u001b[1;34m()\u001b[0m\n",
      "\u001b[1;31mFileNotFoundError\u001b[0m: [Errno 2] File KaggleOtto_train.csv does not exist: 'KaggleOtto_train.csv'"
     ]
    }
   ],
   "source": [
    "X = pd.read_csv(\"KaggleOtto_train.csv\")\n",
    "X.drop('id', axis=1, inplace=True)\n",
    "print(X.shape)\n",
    "np.random.seed(1)\n",
    "# Shuffle data. It is originally oredered by class\n",
    "X = X.reindex(np.random.permutation(X.index))"
   ]
  },
  {
   "cell_type": "markdown",
   "metadata": {},
   "source": [
    "This is a multiclass classification problem. \n",
    "\n",
    "Keras loss function for this problem is `categorical_crossentropy` (multiclass logloss). \n",
    "\n",
    "There is important note in the manual:  <br>\n",
    "when using the `categorical_crossentropy` loss, your targets should be in categorical format (e.g. if you have 10 classes, the target for each sample should be a 10-dimensional vector that is all-zeros except for 1 at the index corresponding to the class of the sample). \n",
    "\n",
    "In order to convert integer targets into categorical targets, you can use Keras utility `to_categorical`:\n",
    "\n",
    "`from keras.utils import to_categorical`\n",
    "`categorical_labels = to_categorical(int_labels, num_classes=None)`\n",
    "\n",
    "The target variable initially is in string format:"
   ]
  },
  {
   "cell_type": "code",
   "execution_count": 11,
   "metadata": {},
   "outputs": [
    {
     "data": {
      "text/plain": [
       "34888    Class_8\n",
       "33063    Class_1\n",
       "18402    Class_5\n",
       "48904    Class_9\n",
       "8078     Class_3\n",
       "24224    Class_6\n",
       "Name: target, dtype: object"
      ]
     },
     "execution_count": 11,
     "metadata": {},
     "output_type": "execute_result"
    }
   ],
   "source": [
    "X.target[:6]"
   ]
  },
  {
   "cell_type": "markdown",
   "metadata": {},
   "source": [
    "Convert strings to integers and then to categorical format"
   ]
  },
  {
   "cell_type": "code",
   "execution_count": 12,
   "metadata": {},
   "outputs": [
    {
     "data": {
      "text/plain": [
       "array([[ 0.,  0.,  0.,  0.,  0.,  0.,  0.,  1.,  0.],\n",
       "       [ 1.,  0.,  0.,  0.,  0.,  0.,  0.,  0.,  0.],\n",
       "       [ 0.,  0.,  0.,  0.,  1.,  0.,  0.,  0.,  0.],\n",
       "       [ 0.,  0.,  0.,  0.,  0.,  0.,  0.,  0.,  1.],\n",
       "       [ 0.,  0.,  1.,  0.,  0.,  0.,  0.,  0.,  0.],\n",
       "       [ 0.,  0.,  0.,  0.,  0.,  1.,  0.,  0.,  0.]], dtype=float32)"
      ]
     },
     "execution_count": 12,
     "metadata": {},
     "output_type": "execute_result"
    }
   ],
   "source": [
    "# Extract target\n",
    "# Encode it to make it manageable by ML algo, convert to np.int32\n",
    "y = X.target.values\n",
    "encoder = LabelEncoder()\n",
    "y = encoder.fit_transform(y).astype(np.int32)\n",
    "num_classes = len(encoder.classes_)\n",
    "# convert class vectors to binary class matrices\n",
    "y = to_categorical(y, num_classes)\n",
    "\n",
    "# Remove target from train\n",
    "X.drop('target', axis=1, inplace=True)\n",
    "\n",
    "y[:6,:]"
   ]
  },
  {
   "cell_type": "markdown",
   "metadata": {
    "collapsed": true
   },
   "source": [
    "It was noticed during competition that logarithmic transfrom improves performance of most of ML algrithms. Transform the data and convert them to numpy array."
   ]
  },
  {
   "cell_type": "code",
   "execution_count": 13,
   "metadata": {
    "nbpresent": {
     "id": "9ae3ad2d-82e9-4ac2-b198-dce882dfcd53"
    }
   },
   "outputs": [],
   "source": [
    "num_features = X.shape[1]\n",
    "# log transform to decrease large values affect\n",
    "X = np.log(1+X.values)"
   ]
  },
  {
   "cell_type": "markdown",
   "metadata": {
    "nbpresent": {
     "id": "ab91eb3a-658e-4ffd-ba20-864fea7b7f8d"
    }
   },
   "source": [
    "# The baseline model\n",
    "\n",
    "Start tunning sequential network with two hidden layers and dropout layers after each of them. \n",
    "\n",
    "The following function creates such network."
   ]
  },
  {
   "cell_type": "code",
   "execution_count": 14,
   "metadata": {
    "nbpresent": {
     "id": "a4306c9c-9be2-4172-9ad6-2355ffad6ba5"
    }
   },
   "outputs": [
    {
     "data": {
      "image/svg+xml": [
       "<svg height=\"410pt\" viewBox=\"0.00 0.00 136.00 410.00\" width=\"136pt\" xmlns=\"http://www.w3.org/2000/svg\" xmlns:xlink=\"http://www.w3.org/1999/xlink\">\n",
       "<g class=\"graph\" id=\"graph0\" transform=\"scale(1 1) rotate(0) translate(4 406)\">\n",
       "<title>G</title>\n",
       "<polygon fill=\"#ffffff\" points=\"-4,4 -4,-406 132,-406 132,4 -4,4\" stroke=\"transparent\"/>\n",
       "<!-- 139934067412552 -->\n",
       "<g class=\"node\" id=\"node1\">\n",
       "<title>139934067412552</title>\n",
       "<polygon fill=\"none\" points=\"11.5,-292.5 11.5,-328.5 116.5,-328.5 116.5,-292.5 11.5,-292.5\" stroke=\"#000000\"/>\n",
       "<text fill=\"#000000\" font-family=\"Times,serif\" font-size=\"14.00\" text-anchor=\"middle\" x=\"64\" y=\"-306.8\">Dense_1: Dense</text>\n",
       "</g>\n",
       "<!-- 139934067395664 -->\n",
       "<g class=\"node\" id=\"node2\">\n",
       "<title>139934067395664</title>\n",
       "<polygon fill=\"none\" points=\"0,-219.5 0,-255.5 128,-255.5 128,-219.5 0,-219.5\" stroke=\"#000000\"/>\n",
       "<text fill=\"#000000\" font-family=\"Times,serif\" font-size=\"14.00\" text-anchor=\"middle\" x=\"64\" y=\"-233.8\">Dropout_1: Dropout</text>\n",
       "</g>\n",
       "<!-- 139934067412552&#45;&gt;139934067395664 -->\n",
       "<g class=\"edge\" id=\"edge2\">\n",
       "<title>139934067412552-&gt;139934067395664</title>\n",
       "<path d=\"M64,-292.4551C64,-284.3828 64,-274.6764 64,-265.6817\" fill=\"none\" stroke=\"#000000\"/>\n",
       "<polygon fill=\"#000000\" points=\"67.5001,-265.5903 64,-255.5904 60.5001,-265.5904 67.5001,-265.5903\" stroke=\"#000000\"/>\n",
       "</g>\n",
       "<!-- 139934067394096 -->\n",
       "<g class=\"node\" id=\"node3\">\n",
       "<title>139934067394096</title>\n",
       "<polygon fill=\"none\" points=\"11.5,-146.5 11.5,-182.5 116.5,-182.5 116.5,-146.5 11.5,-146.5\" stroke=\"#000000\"/>\n",
       "<text fill=\"#000000\" font-family=\"Times,serif\" font-size=\"14.00\" text-anchor=\"middle\" x=\"64\" y=\"-160.8\">Dense_2: Dense</text>\n",
       "</g>\n",
       "<!-- 139934067395664&#45;&gt;139934067394096 -->\n",
       "<g class=\"edge\" id=\"edge3\">\n",
       "<title>139934067395664-&gt;139934067394096</title>\n",
       "<path d=\"M64,-219.4551C64,-211.3828 64,-201.6764 64,-192.6817\" fill=\"none\" stroke=\"#000000\"/>\n",
       "<polygon fill=\"#000000\" points=\"67.5001,-192.5903 64,-182.5904 60.5001,-192.5904 67.5001,-192.5903\" stroke=\"#000000\"/>\n",
       "</g>\n",
       "<!-- 139934067394432 -->\n",
       "<g class=\"node\" id=\"node4\">\n",
       "<title>139934067394432</title>\n",
       "<polygon fill=\"none\" points=\"0,-73.5 0,-109.5 128,-109.5 128,-73.5 0,-73.5\" stroke=\"#000000\"/>\n",
       "<text fill=\"#000000\" font-family=\"Times,serif\" font-size=\"14.00\" text-anchor=\"middle\" x=\"64\" y=\"-87.8\">Dropout_2: Dropout</text>\n",
       "</g>\n",
       "<!-- 139934067394096&#45;&gt;139934067394432 -->\n",
       "<g class=\"edge\" id=\"edge4\">\n",
       "<title>139934067394096-&gt;139934067394432</title>\n",
       "<path d=\"M64,-146.4551C64,-138.3828 64,-128.6764 64,-119.6817\" fill=\"none\" stroke=\"#000000\"/>\n",
       "<polygon fill=\"#000000\" points=\"67.5001,-119.5903 64,-109.5904 60.5001,-119.5904 67.5001,-119.5903\" stroke=\"#000000\"/>\n",
       "</g>\n",
       "<!-- 139934067363344 -->\n",
       "<g class=\"node\" id=\"node5\">\n",
       "<title>139934067363344</title>\n",
       "<polygon fill=\"none\" points=\"16.5,-.5 16.5,-36.5 111.5,-36.5 111.5,-.5 16.5,-.5\" stroke=\"#000000\"/>\n",
       "<text fill=\"#000000\" font-family=\"Times,serif\" font-size=\"14.00\" text-anchor=\"middle\" x=\"64\" y=\"-14.8\">Output: Dense</text>\n",
       "</g>\n",
       "<!-- 139934067394432&#45;&gt;139934067363344 -->\n",
       "<g class=\"edge\" id=\"edge5\">\n",
       "<title>139934067394432-&gt;139934067363344</title>\n",
       "<path d=\"M64,-73.4551C64,-65.3828 64,-55.6764 64,-46.6817\" fill=\"none\" stroke=\"#000000\"/>\n",
       "<polygon fill=\"#000000\" points=\"67.5001,-46.5903 64,-36.5904 60.5001,-46.5904 67.5001,-46.5903\" stroke=\"#000000\"/>\n",
       "</g>\n",
       "<!-- 139934067412888 -->\n",
       "<g class=\"node\" id=\"node6\">\n",
       "<title>139934067412888</title>\n",
       "<polygon fill=\"none\" points=\"5,-365.5 5,-401.5 123,-401.5 123,-365.5 5,-365.5\" stroke=\"#000000\"/>\n",
       "<text fill=\"#000000\" font-family=\"Times,serif\" font-size=\"14.00\" text-anchor=\"middle\" x=\"64\" y=\"-379.8\">139934067412888</text>\n",
       "</g>\n",
       "<!-- 139934067412888&#45;&gt;139934067412552 -->\n",
       "<g class=\"edge\" id=\"edge1\">\n",
       "<title>139934067412888-&gt;139934067412552</title>\n",
       "<path d=\"M64,-365.4551C64,-357.3828 64,-347.6764 64,-338.6817\" fill=\"none\" stroke=\"#000000\"/>\n",
       "<polygon fill=\"#000000\" points=\"67.5001,-338.5903 64,-328.5904 60.5001,-338.5904 67.5001,-338.5903\" stroke=\"#000000\"/>\n",
       "</g>\n",
       "</g>\n",
       "</svg>"
      ],
      "text/plain": [
       "<IPython.core.display.SVG object>"
      ]
     },
     "execution_count": 14,
     "metadata": {},
     "output_type": "execute_result"
    }
   ],
   "source": [
    "def getModel(dropout=0.1, neurons1=500, neurons2=250,\n",
    "             learningRate=0.04):\n",
    "    np.random.seed(1)\n",
    "    model = Sequential()\n",
    "    model.add(Dense(neurons1, activation='relu', input_dim=num_features,\n",
    "                    name='Dense_1'))\n",
    "    model.add(Dropout(dropout,name='Dropout_1'))\n",
    "    model.add(Dense(neurons2, activation='relu',name='Dense_2'))\n",
    "    model.add(Dropout(dropout,name='Dropout_2'))\n",
    "    model.add(Dense(num_classes, activation='softmax',name='Output'))\n",
    "    model.compile(loss='categorical_crossentropy',\n",
    "                  optimizer=Adagrad(lr=learningRate), metrics=['accuracy'])\n",
    "    return model\n",
    "\n",
    "model1 = getModel()\n",
    "\n",
    "SVG(model_to_dot(model1).create(prog='dot', format='svg'))"
   ]
  },
  {
   "cell_type": "markdown",
   "metadata": {},
   "source": [
    "The network was created by `getModel()` with default parameters. Method `Fit` has parameter  \n",
    "\n",
    "`validation_split`: float (0. < x < 1): this is fraction of the data to use as hold-out validation data.  \n",
    "\n",
    "Set `validation_split = 0.2` i.e. 20% of data will be used for validation. <br>\n",
    "Fit the model and draw validation loss plot. <br>\n",
    "Since we want to show validation loss behaviour after it reaches minimum, we do not use `EarlyStopping` callback."
   ]
  },
  {
   "cell_type": "code",
   "execution_count": 15,
   "metadata": {},
   "outputs": [
    {
     "name": "stdout",
     "output_type": "stream",
     "text": [
      "Train on 44702 samples, validate on 11176 samples\n",
      "Epoch 1/12\n",
      " - 3s - loss: 13.5327 - acc: 0.1494 - val_loss: 11.9084 - val_acc: 0.2585\n",
      "Epoch 2/12\n",
      " - 2s - loss: 5.4701 - acc: 0.5236 - val_loss: 0.6752 - val_acc: 0.7434\n",
      "Epoch 3/12\n",
      " - 2s - loss: 0.6053 - acc: 0.7688 - val_loss: 0.5779 - val_acc: 0.7747\n",
      "Epoch 4/12\n",
      " - 2s - loss: 0.5439 - acc: 0.7880 - val_loss: 0.5569 - val_acc: 0.7854\n",
      "Epoch 5/12\n",
      " - 2s - loss: 0.5098 - acc: 0.8003 - val_loss: 0.5380 - val_acc: 0.7867\n",
      "Epoch 6/12\n",
      " - 2s - loss: 0.4818 - acc: 0.8112 - val_loss: 0.5313 - val_acc: 0.7912\n",
      "Epoch 7/12\n",
      " - 2s - loss: 0.4602 - acc: 0.8180 - val_loss: 0.5159 - val_acc: 0.8010\n",
      "Epoch 8/12\n",
      " - 2s - loss: 0.4408 - acc: 0.8251 - val_loss: 0.5254 - val_acc: 0.7983\n",
      "Epoch 9/12\n",
      " - 2s - loss: 0.4219 - acc: 0.8316 - val_loss: 0.5347 - val_acc: 0.7967\n",
      "Epoch 10/12\n",
      " - 2s - loss: 0.4059 - acc: 0.8380 - val_loss: 0.5220 - val_acc: 0.8040\n",
      "Epoch 11/12\n",
      " - 2s - loss: 0.3914 - acc: 0.8442 - val_loss: 0.5103 - val_acc: 0.8059\n",
      "Epoch 12/12\n",
      " - 2s - loss: 0.3752 - acc: 0.8513 - val_loss: 0.5133 - val_acc: 0.8078\n"
     ]
    }
   ],
   "source": [
    "net1 = model1.fit(X, y, epochs=12, batch_size=512, verbose=2,\n",
    "                  validation_split=0.2)"
   ]
  },
  {
   "cell_type": "code",
   "execution_count": 16,
   "metadata": {
    "nbpresent": {
     "id": "b1913631-f4d5-4a17-a7dc-b14ff18f2233"
    }
   },
   "outputs": [
    {
     "data": {
      "image/png": "[encoded data removed]",
      "text/plain": [
       "<Figure size 432x288 with 1 Axes>"
      ]
     },
     "metadata": {},
     "output_type": "display_data"
    }
   ],
   "source": [
    "valid_loss1 = net1.history[\"val_loss\"]\n",
    "plt.plot(valid_loss1, linewidth=3, label=\"The baseline\")\n",
    "plt.grid()\n",
    "plt.legend()\n",
    "plt.xlabel(\"epoch\")\n",
    "plt.ylabel(\"validation loss\")\n",
    "plt.xlim(0, 40)\n",
    "plt.ylim(0.48, 0.6)\n",
    "plt.yscale(\"log\")\n",
    "plt.show()"
   ]
  },
  {
   "cell_type": "markdown",
   "metadata": {
    "nbpresent": {
     "id": "1a787e08-697b-4665-b430-80d2c2ab6487"
    }
   },
   "source": [
    "Note that optimal performance is often achieved around `epoch = 7`.\n",
    "For later epochs the model is overfitting, and performance is worse."
   ]
  },
  {
   "cell_type": "markdown",
   "metadata": {
    "nbpresent": {
     "id": "f632bfe3-05ff-45f8-8229-e312cb9cf4ab"
    }
   },
   "source": [
    "# Increase dropout\n",
    "\n",
    "Add some drop out to prevent overfitting."
   ]
  },
  {
   "cell_type": "code",
   "execution_count": 17,
   "metadata": {
    "nbpresent": {
     "id": "af0110da-1129-4946-92db-0977911c1724"
    }
   },
   "outputs": [
    {
     "name": "stdout",
     "output_type": "stream",
     "text": [
      "Train on 44702 samples, validate on 11176 samples\n",
      "Epoch 1/12\n",
      " - 2s - loss: 1.1428 - acc: 0.6855 - val_loss: 0.6270 - val_acc: 0.7615\n",
      "Epoch 2/12\n",
      " - 3s - loss: 0.6268 - acc: 0.7615 - val_loss: 0.5832 - val_acc: 0.7736\n",
      "Epoch 3/12\n",
      " - 2s - loss: 0.5845 - acc: 0.7717 - val_loss: 0.5565 - val_acc: 0.7819\n",
      "Epoch 4/12\n",
      " - 2s - loss: 0.5594 - acc: 0.7840 - val_loss: 0.5413 - val_acc: 0.7873\n",
      "Epoch 5/12\n",
      " - 2s - loss: 0.5362 - acc: 0.7925 - val_loss: 0.5347 - val_acc: 0.7895\n",
      "Epoch 6/12\n",
      " - 2s - loss: 0.5238 - acc: 0.7951 - val_loss: 0.5261 - val_acc: 0.7925\n",
      "Epoch 7/12\n",
      " - 2s - loss: 0.5062 - acc: 0.8014 - val_loss: 0.5187 - val_acc: 0.7977\n",
      "Epoch 8/12\n",
      " - 2s - loss: 0.4959 - acc: 0.8050 - val_loss: 0.5103 - val_acc: 0.7997\n",
      "Epoch 9/12\n",
      " - 2s - loss: 0.4823 - acc: 0.8106 - val_loss: 0.5150 - val_acc: 0.7995\n",
      "Epoch 10/12\n",
      " - 2s - loss: 0.4699 - acc: 0.8126 - val_loss: 0.5110 - val_acc: 0.8015\n",
      "Epoch 11/12\n",
      " - 2s - loss: 0.4622 - acc: 0.8175 - val_loss: 0.5039 - val_acc: 0.8040\n",
      "Epoch 12/12\n",
      " - 2s - loss: 0.4550 - acc: 0.8173 - val_loss: 0.5016 - val_acc: 0.8087\n"
     ]
    }
   ],
   "source": [
    "increasedDropout = 0.4\n",
    "model2 = getModel(increasedDropout)\n",
    "net2 = model2.fit(X, y, epochs=12, batch_size=512, verbose=2,validation_split=0.2)"
   ]
  },
  {
   "cell_type": "markdown",
   "metadata": {},
   "source": [
    "Compare validation loss for `net1` and `net2`"
   ]
  },
  {
   "cell_type": "code",
   "execution_count": 18,
   "metadata": {
    "nbpresent": {
     "id": "9681dd61-7153-4302-821a-679f712d6620"
    }
   },
   "outputs": [
    {
     "data": {
      "image/png": "[encoded data removed]",
      "text/plain": [
       "<Figure size 432x288 with 1 Axes>"
      ]
     },
     "metadata": {},
     "output_type": "display_data"
    },
    {
     "name": "stdout",
     "output_type": "stream",
     "text": [
      "best validation loss 0.501605458062\n"
     ]
    }
   ],
   "source": [
    "valid_loss2 = net2.history[\"val_loss\"]\n",
    "plt.plot(valid_loss1, linewidth=3, label=\"The baseline\")\n",
    "plt.plot(valid_loss2, linewidth=3, label=\"Increased dropout\")\n",
    "plt.grid()\n",
    "plt.legend()\n",
    "plt.xlabel(\"epoch\")\n",
    "plt.ylabel(\"validation loss\")\n",
    "plt.xlim(0, 40)\n",
    "plt.ylim(0.47, 0.6)\n",
    "plt.yscale(\"log\")\n",
    "plt.show()\n",
    "print('best validation loss', min(valid_loss2))"
   ]
  },
  {
   "cell_type": "markdown",
   "metadata": {
    "nbpresent": {
     "id": "f1ed5413-2a3e-4867-9f13-3370cfd8eaf1"
    }
   },
   "source": [
    "That is better. <br>\n",
    "No more overfitting, and it feels like it is possible to increase number of epochs."
   ]
  },
  {
   "cell_type": "markdown",
   "metadata": {
    "nbpresent": {
     "id": "06969724-bbdd-4fb1-8d07-6482f7215782"
    }
   },
   "source": [
    "# Increase number of epochs\n",
    "\n",
    "Increase number of epochs and check what loss can be reached."
   ]
  },
  {
   "cell_type": "code",
   "execution_count": 19,
   "metadata": {
    "nbpresent": {
     "id": "6356fb1c-4fd3-44f3-98b1-8bdf49066203"
    }
   },
   "outputs": [
    {
     "name": "stdout",
     "output_type": "stream",
     "text": [
      "Train on 44702 samples, validate on 11176 samples\n",
      "Epoch 1/25\n",
      " - 2s - loss: 1.5558 - acc: 0.6745 - val_loss: 0.6180 - val_acc: 0.7657\n",
      "Epoch 2/25\n",
      " - 2s - loss: 0.6247 - acc: 0.7622 - val_loss: 0.5819 - val_acc: 0.7718\n",
      "Epoch 3/25\n",
      " - 2s - loss: 0.5807 - acc: 0.7764 - val_loss: 0.5477 - val_acc: 0.7861\n",
      "Epoch 4/25\n",
      " - 2s - loss: 0.5524 - acc: 0.7857 - val_loss: 0.5419 - val_acc: 0.7875\n",
      "Epoch 5/25\n",
      " - 2s - loss: 0.5349 - acc: 0.7914 - val_loss: 0.5303 - val_acc: 0.7920\n",
      "Epoch 6/25\n",
      " - 2s - loss: 0.5182 - acc: 0.7988 - val_loss: 0.5273 - val_acc: 0.7931\n",
      "Epoch 7/25\n",
      " - 2s - loss: 0.5016 - acc: 0.8019 - val_loss: 0.5186 - val_acc: 0.8008\n",
      "Epoch 8/25\n",
      " - 2s - loss: 0.4905 - acc: 0.8077 - val_loss: 0.5138 - val_acc: 0.7979\n",
      "Epoch 9/25\n",
      " - 2s - loss: 0.4788 - acc: 0.8100 - val_loss: 0.5160 - val_acc: 0.8006\n",
      "Epoch 10/25\n",
      " - 2s - loss: 0.4700 - acc: 0.8149 - val_loss: 0.5101 - val_acc: 0.8040\n",
      "Epoch 11/25\n",
      " - 2s - loss: 0.4573 - acc: 0.8190 - val_loss: 0.5080 - val_acc: 0.8046\n",
      "Epoch 12/25\n",
      " - 2s - loss: 0.4503 - acc: 0.8205 - val_loss: 0.5060 - val_acc: 0.8049\n",
      "Epoch 13/25\n",
      " - 2s - loss: 0.4438 - acc: 0.8219 - val_loss: 0.5021 - val_acc: 0.8066\n",
      "Epoch 14/25\n",
      " - 2s - loss: 0.4318 - acc: 0.8283 - val_loss: 0.5014 - val_acc: 0.8074\n",
      "Epoch 15/25\n",
      " - 3s - loss: 0.4297 - acc: 0.8283 - val_loss: 0.5032 - val_acc: 0.8054\n",
      "Epoch 16/25\n",
      " - 2s - loss: 0.4179 - acc: 0.8327 - val_loss: 0.5010 - val_acc: 0.8057\n",
      "Epoch 17/25\n",
      " - 2s - loss: 0.4129 - acc: 0.8342 - val_loss: 0.5112 - val_acc: 0.8036\n",
      "Epoch 18/25\n",
      " - 2s - loss: 0.4087 - acc: 0.8357 - val_loss: 0.5109 - val_acc: 0.8044\n",
      "Epoch 19/25\n",
      " - 3s - loss: 0.4011 - acc: 0.8380 - val_loss: 0.5095 - val_acc: 0.8102\n",
      "Epoch 20/25\n",
      " - 2s - loss: 0.3959 - acc: 0.8402 - val_loss: 0.5089 - val_acc: 0.8065\n",
      "Epoch 21/25\n",
      " - 3s - loss: 0.3933 - acc: 0.8390 - val_loss: 0.5041 - val_acc: 0.8082\n",
      "Epoch 22/25\n",
      " - 2s - loss: 0.3847 - acc: 0.8454 - val_loss: 0.5095 - val_acc: 0.8099\n",
      "Epoch 23/25\n",
      " - 2s - loss: 0.3804 - acc: 0.8456 - val_loss: 0.5088 - val_acc: 0.8089\n",
      "Epoch 24/25\n",
      " - 2s - loss: 0.3747 - acc: 0.8465 - val_loss: 0.5124 - val_acc: 0.8076\n",
      "Epoch 25/25\n",
      " - 2s - loss: 0.3720 - acc: 0.8486 - val_loss: 0.5120 - val_acc: 0.8083\n"
     ]
    }
   ],
   "source": [
    "model3 = getModel(increasedDropout)\n",
    "net3 = model3.fit(X, y, epochs=25, batch_size=512, verbose=2, validation_split=0.2)"
   ]
  },
  {
   "cell_type": "code",
   "execution_count": 20,
   "metadata": {
    "nbpresent": {
     "id": "f248015c-df5d-47d3-86fd-073d8b0860a3"
    }
   },
   "outputs": [
    {
     "data": {
      "image/png": "[encoded data removed]",
      "text/plain": [
       "<Figure size 432x288 with 1 Axes>"
      ]
     },
     "metadata": {},
     "output_type": "display_data"
    },
    {
     "name": "stdout",
     "output_type": "stream",
     "text": [
      "best validation loss 0.500978287707\n"
     ]
    }
   ],
   "source": [
    "valid_loss3 = np.array(net3.history[\"val_loss\"])\n",
    "plt.plot(valid_loss1, linewidth=3, label=\"The baseline\")\n",
    "plt.plot(valid_loss3, linewidth=3, label=\"Increased dropout & epoch\")\n",
    "plt.grid()\n",
    "plt.legend()\n",
    "plt.xlabel(\"epoch\")\n",
    "plt.ylabel(\"validation loss\")\n",
    "plt.xlim(0, 40)\n",
    "plt.ylim(0.47, 0.6)\n",
    "plt.yscale(\"log\")\n",
    "plt.show()\n",
    "print('best validation loss', min(valid_loss3))"
   ]
  },
  {
   "cell_type": "markdown",
   "metadata": {},
   "source": [
    "Try to improve performance further by adding neurons"
   ]
  },
  {
   "cell_type": "markdown",
   "metadata": {
    "nbpresent": {
     "id": "21f44c66-abe8-4ca0-b689-2abf7290d246"
    }
   },
   "source": [
    "# Increase number of neurons\n",
    "\n",
    "Increase number of neurons in the first hidden layer."
   ]
  },
  {
   "cell_type": "code",
   "execution_count": 21,
   "metadata": {
    "nbpresent": {
     "id": "0a6a6da6-7a04-4cfd-8030-34f14d1918ea"
    },
    "scrolled": false
   },
   "outputs": [
    {
     "name": "stdout",
     "output_type": "stream",
     "text": [
      "Train on 44702 samples, validate on 11176 samples\n",
      "Epoch 1/25\n",
      " - 3s - loss: 5.8932 - acc: 0.4892 - val_loss: 0.6748 - val_acc: 0.7462\n",
      "Epoch 2/25\n",
      " - 3s - loss: 0.6379 - acc: 0.7559 - val_loss: 0.5817 - val_acc: 0.7747\n",
      "Epoch 3/25\n",
      " - 3s - loss: 0.5784 - acc: 0.7747 - val_loss: 0.5547 - val_acc: 0.7815\n",
      "Epoch 4/25\n",
      " - 3s - loss: 0.5405 - acc: 0.7885 - val_loss: 0.5360 - val_acc: 0.7902\n",
      "Epoch 5/25\n",
      " - 3s - loss: 0.5160 - acc: 0.7976 - val_loss: 0.5292 - val_acc: 0.7923\n",
      "Epoch 6/25\n",
      " - 3s - loss: 0.4945 - acc: 0.8060 - val_loss: 0.5308 - val_acc: 0.7935\n",
      "Epoch 7/25\n",
      " - 3s - loss: 0.4737 - acc: 0.8119 - val_loss: 0.5125 - val_acc: 0.8009\n",
      "Epoch 8/25\n",
      " - 3s - loss: 0.4600 - acc: 0.8176 - val_loss: 0.5025 - val_acc: 0.8051\n",
      "Epoch 9/25\n",
      " - 3s - loss: 0.4437 - acc: 0.8241 - val_loss: 0.5143 - val_acc: 0.8040\n",
      "Epoch 10/25\n",
      " - 3s - loss: 0.4321 - acc: 0.8275 - val_loss: 0.5111 - val_acc: 0.8039\n",
      "Epoch 11/25\n",
      " - 3s - loss: 0.4179 - acc: 0.8318 - val_loss: 0.5002 - val_acc: 0.8074\n",
      "Epoch 12/25\n",
      " - 4s - loss: 0.4047 - acc: 0.8360 - val_loss: 0.4988 - val_acc: 0.8115\n",
      "Epoch 13/25\n",
      " - 3s - loss: 0.3956 - acc: 0.8413 - val_loss: 0.4982 - val_acc: 0.8094\n",
      "Epoch 14/25\n",
      " - 3s - loss: 0.3849 - acc: 0.8431 - val_loss: 0.5000 - val_acc: 0.8120\n",
      "Epoch 15/25\n",
      " - 3s - loss: 0.3762 - acc: 0.8475 - val_loss: 0.5005 - val_acc: 0.8097\n",
      "Epoch 16/25\n",
      " - 3s - loss: 0.3661 - acc: 0.8539 - val_loss: 0.5022 - val_acc: 0.8147\n",
      "Epoch 17/25\n",
      " - 3s - loss: 0.3595 - acc: 0.8535 - val_loss: 0.5067 - val_acc: 0.8137\n",
      "Epoch 18/25\n",
      " - 3s - loss: 0.3511 - acc: 0.8574 - val_loss: 0.5149 - val_acc: 0.8107\n",
      "Epoch 19/25\n",
      " - 3s - loss: 0.3405 - acc: 0.8603 - val_loss: 0.5185 - val_acc: 0.8136\n",
      "Epoch 20/25\n",
      " - 3s - loss: 0.3352 - acc: 0.8615 - val_loss: 0.5160 - val_acc: 0.8149\n",
      "Epoch 21/25\n",
      " - 3s - loss: 0.3320 - acc: 0.8646 - val_loss: 0.5181 - val_acc: 0.8116\n",
      "Epoch 22/25\n",
      " - 3s - loss: 0.3227 - acc: 0.8670 - val_loss: 0.5188 - val_acc: 0.8148\n",
      "Epoch 23/25\n",
      " - 3s - loss: 0.3145 - acc: 0.8713 - val_loss: 0.5272 - val_acc: 0.8138\n",
      "Epoch 24/25\n",
      " - 3s - loss: 0.3096 - acc: 0.8730 - val_loss: 0.5254 - val_acc: 0.8142\n",
      "Epoch 25/25\n",
      " - 3s - loss: 0.3033 - acc: 0.8767 - val_loss: 0.5354 - val_acc: 0.8153\n"
     ]
    }
   ],
   "source": [
    "increasedNeurons1 = 1000\n",
    "model4 = getModel(increasedDropout, neurons1=increasedNeurons1)\n",
    "net4 = model4.fit(X, y, epochs=25, batch_size=512, verbose=2, validation_split=0.2)"
   ]
  },
  {
   "cell_type": "code",
   "execution_count": 22,
   "metadata": {
    "nbpresent": {
     "id": "696ef53e-4019-4f1f-8cc4-786269febd64"
    },
    "scrolled": true
   },
   "outputs": [
    {
     "data": {
      "image/png": "[encoded data removed]",
      "text/plain": [
       "<Figure size 432x288 with 1 Axes>"
      ]
     },
     "metadata": {},
     "output_type": "display_data"
    },
    {
     "name": "stdout",
     "output_type": "stream",
     "text": [
      "best validation loss 0.498193248989\n"
     ]
    }
   ],
   "source": [
    "valid_loss4 = net4.history[\"val_loss\"]\n",
    "plt.plot(valid_loss1, linewidth=3, label=\"The baseline\")\n",
    "plt.plot(valid_loss3, linewidth=3, label=\"Increased dropout & epoch\")\n",
    "plt.plot(valid_loss4, linewidth=3, label=\"Increased neurons\")\n",
    "plt.grid()\n",
    "plt.legend()\n",
    "plt.xlabel(\"epoch\")\n",
    "plt.ylabel(\"validation loss\")\n",
    "plt.xlim(0, 40)\n",
    "plt.ylim(0.47, 0.6)\n",
    "plt.yscale(\"log\")\n",
    "plt.show()\n",
    "print('best validation loss', min(valid_loss4))"
   ]
  },
  {
   "cell_type": "markdown",
   "metadata": {
    "nbpresent": {
     "id": "e4df500f-c9fc-494e-8e99-5eba98055ec9"
    }
   },
   "source": [
    "That is better, but we start overfitting around epoch 12. <br>"
   ]
  },
  {
   "cell_type": "markdown",
   "metadata": {
    "nbpresent": {
     "id": "a7b34497-c26a-4f4b-9ad4-ded1f752db13"
    }
   },
   "source": [
    "# Decrease learning rate\n",
    "\n",
    "To prevent overfitting decrease the learning rate."
   ]
  },
  {
   "cell_type": "code",
   "execution_count": 23,
   "metadata": {
    "nbpresent": {
     "id": "2be239bf-bf81-4233-84a4-49a6565de50d"
    },
    "scrolled": true
   },
   "outputs": [
    {
     "name": "stdout",
     "output_type": "stream",
     "text": [
      "Train on 44702 samples, validate on 11176 samples\n",
      "Epoch 1/30\n",
      " - 4s - loss: 0.7775 - acc: 0.7178 - val_loss: 0.6125 - val_acc: 0.7732\n",
      "Epoch 2/30\n",
      " - 3s - loss: 0.6100 - acc: 0.7676 - val_loss: 0.5784 - val_acc: 0.7789\n",
      "Epoch 3/30\n",
      " - 3s - loss: 0.5802 - acc: 0.7777 - val_loss: 0.5617 - val_acc: 0.7823\n",
      "Epoch 4/30\n",
      " - 3s - loss: 0.5584 - acc: 0.7860 - val_loss: 0.5520 - val_acc: 0.7857\n",
      "Epoch 5/30\n",
      " - 3s - loss: 0.5417 - acc: 0.7902 - val_loss: 0.5430 - val_acc: 0.7892\n",
      "Epoch 6/30\n",
      " - 3s - loss: 0.5338 - acc: 0.7948 - val_loss: 0.5387 - val_acc: 0.7893\n",
      "Epoch 7/30\n",
      " - 3s - loss: 0.5207 - acc: 0.7995 - val_loss: 0.5311 - val_acc: 0.7945\n",
      "Epoch 8/30\n",
      " - 3s - loss: 0.5114 - acc: 0.8021 - val_loss: 0.5266 - val_acc: 0.7951\n",
      "Epoch 9/30\n",
      " - 4s - loss: 0.5037 - acc: 0.8043 - val_loss: 0.5299 - val_acc: 0.7956\n",
      "Epoch 10/30\n",
      " - 3s - loss: 0.4981 - acc: 0.8080 - val_loss: 0.5214 - val_acc: 0.7972\n",
      "Epoch 11/30\n",
      " - 3s - loss: 0.4883 - acc: 0.8106 - val_loss: 0.5164 - val_acc: 0.7995\n",
      "Epoch 12/30\n",
      " - 3s - loss: 0.4821 - acc: 0.8128 - val_loss: 0.5128 - val_acc: 0.7996\n",
      "Epoch 13/30\n",
      " - 3s - loss: 0.4792 - acc: 0.8134 - val_loss: 0.5103 - val_acc: 0.8014\n",
      "Epoch 14/30\n",
      " - 3s - loss: 0.4717 - acc: 0.8162 - val_loss: 0.5107 - val_acc: 0.8019\n",
      "Epoch 15/30\n",
      " - 4s - loss: 0.4684 - acc: 0.8173 - val_loss: 0.5076 - val_acc: 0.8040\n",
      "Epoch 16/30\n",
      " - 3s - loss: 0.4625 - acc: 0.8203 - val_loss: 0.5048 - val_acc: 0.8061\n",
      "Epoch 17/30\n",
      " - 3s - loss: 0.4584 - acc: 0.8225 - val_loss: 0.5055 - val_acc: 0.8056\n",
      "Epoch 18/30\n",
      " - 3s - loss: 0.4526 - acc: 0.8233 - val_loss: 0.5042 - val_acc: 0.8046\n",
      "Epoch 19/30\n",
      " - 3s - loss: 0.4468 - acc: 0.8243 - val_loss: 0.5049 - val_acc: 0.8056\n",
      "Epoch 20/30\n",
      " - 3s - loss: 0.4451 - acc: 0.8250 - val_loss: 0.5011 - val_acc: 0.8060\n",
      "Epoch 21/30\n",
      " - 3s - loss: 0.4413 - acc: 0.8268 - val_loss: 0.4993 - val_acc: 0.8088\n",
      "Epoch 22/30\n",
      " - 3s - loss: 0.4362 - acc: 0.8303 - val_loss: 0.4984 - val_acc: 0.8091\n",
      "Epoch 23/30\n",
      " - 3s - loss: 0.4340 - acc: 0.8294 - val_loss: 0.4976 - val_acc: 0.8096\n",
      "Epoch 24/30\n",
      " - 3s - loss: 0.4296 - acc: 0.8328 - val_loss: 0.5025 - val_acc: 0.8084\n",
      "Epoch 25/30\n",
      " - 3s - loss: 0.4256 - acc: 0.8328 - val_loss: 0.4967 - val_acc: 0.8115\n",
      "Epoch 26/30\n",
      " - 3s - loss: 0.4224 - acc: 0.8329 - val_loss: 0.4999 - val_acc: 0.8087\n",
      "Epoch 27/30\n",
      " - 3s - loss: 0.4196 - acc: 0.8350 - val_loss: 0.4970 - val_acc: 0.8113\n",
      "Epoch 28/30\n",
      " - 3s - loss: 0.4163 - acc: 0.8362 - val_loss: 0.4967 - val_acc: 0.8104\n",
      "Epoch 29/30\n",
      " - 3s - loss: 0.4160 - acc: 0.8365 - val_loss: 0.4934 - val_acc: 0.8104\n",
      "Epoch 30/30\n",
      " - 3s - loss: 0.4125 - acc: 0.8375 - val_loss: 0.4961 - val_acc: 0.8130\n"
     ]
    }
   ],
   "source": [
    "model5 = getModel(increasedDropout, neurons1=increasedNeurons1, learningRate=0.008)\n",
    "net5 = model5.fit(X, y, epochs=30, batch_size=512, verbose=2, validation_split=0.2)"
   ]
  },
  {
   "cell_type": "code",
   "execution_count": 24,
   "metadata": {
    "nbpresent": {
     "id": "5754a0dd-3083-49bc-baff-f669dd566b4c"
    },
    "scrolled": true
   },
   "outputs": [
    {
     "data": {
      "image/png": "[encoded data removed]",
      "text/plain": [
       "<Figure size 432x288 with 1 Axes>"
      ]
     },
     "metadata": {},
     "output_type": "display_data"
    },
    {
     "name": "stdout",
     "output_type": "stream",
     "text": [
      "best validation loss 0.49342025969\n"
     ]
    }
   ],
   "source": [
    "valid_loss5 = net5.history[\"val_loss\"]\n",
    "plt.plot(valid_loss1, linewidth=3, label=\"The baseline\")\n",
    "plt.plot(valid_loss3, linewidth=3, label=\"Increased dropout & epoch\")\n",
    "plt.plot(valid_loss4, linewidth=3, label=\"Increased neurons\")\n",
    "plt.plot(valid_loss5, linewidth=3, label=\"Increased neurons & decr. learning rate\")\n",
    "plt.grid()\n",
    "plt.legend()\n",
    "plt.xlabel(\"epoch\")\n",
    "plt.ylabel(\"validation loss\")\n",
    "plt.xlim(0, 40)\n",
    "plt.ylim(0.47, 0.6)\n",
    "plt.yscale(\"log\")\n",
    "plt.show()\n",
    "print('best validation loss', min(valid_loss5))"
   ]
  },
  {
   "cell_type": "markdown",
   "metadata": {
    "nbpresent": {
     "id": "9bdfced1-2060-4294-ac62-c864b95be8f2"
    }
   },
   "source": [
    "Low learning rate smoothed down validation loss curve and improved prediction quality. \n",
    "Now there is a good balance between number of neurons, dropout and learning rate. <br>\n",
    "Note that other parameters could have been tuned too: number of layers, activation function etc."
   ]
  },
  {
   "cell_type": "markdown",
   "metadata": {},
   "source": [
    "<font color=blue>\n",
    "    \n",
    "**Assignment 1**  <br>\n",
    "Tune sequentially droput rate, number of epochs and number of neurons of the following network:\n",
    "\n",
    "![test_model6](https://ilykei.com/api/fileProxy/documents%2FAdvanced%20Machine%20Learning%2FLecture%207%20AdvML%2Ftest_model6.png)\n",
    "\n",
    "Try to improve 'best validation loss' at least by 0.02 compare to starting point (dropout rate = 0, optimizer=Adagrad(lr=0.04). <br>\n",
    "Do not change validation_split=0.2, optimizer and learning rate. \n",
    "\n",
    "![TunningPic1](https://ilykei.com/api/fileProxy/documents%2FAdvanced%20Machine%20Learning%2FLecture%207%20AdvML%2FTunningPic1.png)"
   ]
  },
  {
   "cell_type": "code",
   "execution_count": null,
   "metadata": {
    "scrolled": true
   },
   "outputs": [],
   "source": [
    "#Skipped code\n",
    "# Assignment 1\n"
   ]
  },
  {
   "cell_type": "markdown",
   "metadata": {},
   "source": [
    "# Tuning hyperparameters with grid search\n",
    "\n",
    "Keras sequential models (single-input only) can be used in `scikit-learn` by wrapping them with the `KerasClassifier` or `KerasRegressor` class.\n",
    "\n",
    "To use these wrappers define a function that creates and returns Keras sequential model, then pass this function to the `build_fn` argument when constructing `KerasClassifier` class. `build_fn` should construct, compile and return a Keras model, which will then be used to fit/predict. One of the following three values could be passed to build_fn:  \n",
    "\n",
    "- A function\n",
    "- An instance of a class that implements the call method\n",
    "- None. This means you implement a class that inherits from either `KerasClassifier` or `KerasRegressor`. The call method of the present class will then be treated as the default `build_fn`.\n",
    "\n",
    "E.g. we can create `KerasClassifier` instance with the above defined function `getModel` :"
   ]
  },
  {
   "cell_type": "code",
   "execution_count": 25,
   "metadata": {},
   "outputs": [],
   "source": [
    "model = KerasClassifier(build_fn=getModel)"
   ]
  },
  {
   "cell_type": "markdown",
   "metadata": {},
   "source": [
    "The constructor for the KerasClassifier class takes second argument   \n",
    "`ssk_params`: model parameters & fitting parameters.  \n",
    "We can pass there any legal model and fitting parameters. "
   ]
  },
  {
   "cell_type": "code",
   "execution_count": 26,
   "metadata": {},
   "outputs": [
    {
     "data": {
      "text/plain": [
       "{'epochs': 20,\n",
       " 'batch_size': 512,\n",
       " 'verbose': 0,\n",
       " 'build_fn': <function __main__.getModel(dropout=0.1, neurons1=500, neurons2=250, learningRate=0.04)>}"
      ]
     },
     "execution_count": 26,
     "metadata": {},
     "output_type": "execute_result"
    }
   ],
   "source": [
    "model = KerasClassifier(build_fn=getModel, epochs=20, batch_size=512, verbose=0)\n",
    "model.get_params()"
   ]
  },
  {
   "cell_type": "markdown",
   "metadata": {},
   "source": [
    "Since it is now scikit-learn Classifier, we can use Grid search - a model hyperparameter optimization technique provided in scikit-learn GridSearchCV class.  \n",
    "\n",
    "When constructing this class we provide a dictionary of hyperparameters to evaluate in the `param_grid` argument.\n",
    "\n",
    "By default, the grid search will only use one thread. <br>\n",
    "By setting the `n_jobs` argument in the `GridSearchCV` constructor to -1, the process will use all cores on your machine. <br>\n",
    "If `n_jobs` was set to a value higher than one, the data are copied for each point in the grid (but not `n_jobs` times). <br>\n",
    "This is done for efficiency if individual jobs take very little time, but may raise errors if the dataset is large and there is not enough memory available. <br>\n",
    "A workaround in this case is to set `pre_dispatch`. <br>\n",
    "Then, the memory is copied only `pre_dispatch` number of times. <br>\n",
    "A reasonable value for `pre_dispatch` is $2~\\times~$n_jobs.\n",
    "\n",
    "The `GridSearchCV` process will then construct and evaluate one model for each combination of parameters. <br>\n",
    "Cross validation is used to evaluate each individual model (by default - 3-fold cross validation, this can be overridden by specifying the `cv` argument to the `GridSearchCV` constructor).  \n",
    "\n",
    "We set \"neg_log_loss\" (negative logloss) as a scoring measure since  `GridSearchCV` is trying to maximize score."
   ]
  },
  {
   "cell_type": "code",
   "execution_count": 29,
   "metadata": {},
   "outputs": [],
   "source": [
    "# define the grid search parameters\n",
    "param_grid = dict(dropout=[0.2, 0.3], neurons1=[300, 500])\n",
    "\n",
    "grid = GridSearchCV(estimator=model, param_grid=param_grid, \n",
    "                    scoring=\"neg_log_loss\", n_jobs=1)\n"
   ]
  },
  {
   "cell_type": "code",
   "execution_count": 30,
   "metadata": {},
   "outputs": [],
   "source": [
    "grid_result = grid.fit(X, y)"
   ]
  },
  {
   "cell_type": "markdown",
   "metadata": {},
   "source": [
    "We can extract results from `grid_result` attribute `cv_results_`. \n",
    "\n",
    "Recall that we were maximizing negative logloss. So, we output `-mean`  as logloss mean."
   ]
  },
  {
   "cell_type": "code",
   "execution_count": 31,
   "metadata": {
    "scrolled": true
   },
   "outputs": [
    {
     "name": "stdout",
     "output_type": "stream",
     "text": [
      "Best: 0.519940 using {'dropout': 0.3, 'neurons1': 300}\n",
      "7.355310 (9.619374) with: {'dropout': 0.2, 'neurons1': 300}\n",
      "0.554405 (0.012002) with: {'dropout': 0.2, 'neurons1': 500}\n",
      "0.519940 (0.007963) with: {'dropout': 0.3, 'neurons1': 300}\n",
      "8.814392 (11.727685) with: {'dropout': 0.3, 'neurons1': 500}\n"
     ]
    }
   ],
   "source": [
    "# summarize results\n",
    "print(\"Best: %f using %s\" % (-grid_result.best_score_, grid_result.best_params_))\n",
    "means = grid_result.cv_results_['mean_test_score']\n",
    "stds = grid_result.cv_results_['std_test_score']\n",
    "params = grid_result.cv_results_['params']\n",
    "for mean, stdev, param in zip(means, stds, params):\n",
    "    print(\"%f (%f) with: %r\" % (-mean, stdev, param))\n"
   ]
  },
  {
   "cell_type": "markdown",
   "metadata": {},
   "source": [
    "# Selecting Optimization Algorithm\n",
    "\n",
    "Grid search may be applied not only to numerical parameters. \n",
    "\n",
    "We can find the best optimizer using it."
   ]
  },
  {
   "cell_type": "code",
   "execution_count": 32,
   "metadata": {},
   "outputs": [],
   "source": [
    "def getModel1(dropout=0.1, neurons1=500, neurons2=250,optimizer=\"Adagrad\"):\n",
    "    np.random.seed(1)\n",
    "    model = Sequential()\n",
    "    model.add(Dense(neurons1, activation='relu', input_dim=num_features))\n",
    "    model.add(Dropout(dropout))\n",
    "    model.add(Dense(neurons2, activation='relu'))\n",
    "    model.add(Dropout(dropout))\n",
    "    model.add(Dense(num_classes, activation='softmax'))\n",
    "    model.compile(loss='categorical_crossentropy',\n",
    "                  optimizer=optimizer, metrics=['accuracy'])\n",
    "    return model\n",
    "\n",
    "\n",
    "optimizer = ['SGD', 'RMSprop', 'Adagrad', 'Adadelta', 'Adam', 'Adamax', 'Nadam']\n",
    "# create model\n",
    "model = KerasClassifier(build_fn=getModel1, dropout=0.3, neurons1=300,\n",
    "                        epochs=20, batch_size=512, verbose=0)\n",
    "# define the grid search parameters\n",
    "\n",
    "grid = GridSearchCV(estimator=model, param_grid=dict(optimizer=optimizer),\n",
    "                    scoring=\"neg_log_loss\",n_jobs=1)\n"
   ]
  },
  {
   "cell_type": "code",
   "execution_count": 33,
   "metadata": {
    "scrolled": true
   },
   "outputs": [
    {
     "name": "stdout",
     "output_type": "stream",
     "text": [
      "Best: 0.511470 using {'optimizer': 'Adam'}\n",
      "0.746026 (0.002895) with: {'optimizer': 'SGD'}\n",
      "0.516018 (0.002455) with: {'optimizer': 'RMSprop'}\n",
      "0.522170 (0.002526) with: {'optimizer': 'Adagrad'}\n",
      "0.519922 (0.001383) with: {'optimizer': 'Adadelta'}\n",
      "0.511470 (0.002982) with: {'optimizer': 'Adam'}\n",
      "0.518164 (0.001022) with: {'optimizer': 'Adamax'}\n",
      "0.522406 (0.002461) with: {'optimizer': 'Nadam'}\n"
     ]
    }
   ],
   "source": [
    "grid_result = grid.fit(X, y)\n",
    "# summarize results\n",
    "print(\"Best: %f using %s\" % (-grid_result.best_score_, grid_result.best_params_))\n",
    "means = grid_result.cv_results_['mean_test_score']\n",
    "stds = grid_result.cv_results_['std_test_score']\n",
    "params = grid_result.cv_results_['params']\n",
    "for mean, stdev, param in zip(means, stds, params):\n",
    "    print(\"%f (%f) with: %r\" % (-mean, stdev, param))"
   ]
  }
 ],
 "metadata": {
  "anaconda-cloud": {},
  "kernelspec": {
   "display_name": "Python 3",
   "language": "python",
   "name": "python3"
  },
  "language_info": {
   "codemirror_mode": {
    "name": "ipython",
    "version": 3
   },
   "file_extension": ".py",
   "mimetype": "text/x-python",
   "name": "python",
   "nbconvert_exporter": "python",
   "pygments_lexer": "ipython3",
   "version": "3.7.6"
  }
 },
 "nbformat": 4,
 "nbformat_minor": 1
}
